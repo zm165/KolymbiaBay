{
 "cells": [
  {
   "cell_type": "code",
   "execution_count": 1,
   "id": "227b4f33",
   "metadata": {},
   "outputs": [],
   "source": [
    "import reskit as rk\n",
    "import pandas as pd\n",
    "import pvlib\n",
    "import geokit as gk\n",
    "import xarray as xr\n",
    "import netCDF4 as nc\n",
    "from reskit import WorkflowManager\n",
    "\n",
    "import matplotlib.pyplot as plt\n",
    "%matplotlib inline"
   ]
  },
  {
   "cell_type": "code",
   "execution_count": 2,
   "id": "448c4b46",
   "metadata": {},
   "outputs": [
    {
     "data": {
      "text/html": [
       "<div>\n",
       "<style scoped>\n",
       "    .dataframe tbody tr th:only-of-type {\n",
       "        vertical-align: middle;\n",
       "    }\n",
       "\n",
       "    .dataframe tbody tr th {\n",
       "        vertical-align: top;\n",
       "    }\n",
       "\n",
       "    .dataframe thead th {\n",
       "        text-align: right;\n",
       "    }\n",
       "</style>\n",
       "<table border=\"1\" class=\"dataframe\">\n",
       "  <thead>\n",
       "    <tr style=\"text-align: right;\">\n",
       "      <th></th>\n",
       "      <th>name</th>\n",
       "      <th>lon</th>\n",
       "      <th>lat</th>\n",
       "      <th>tilt</th>\n",
       "      <th>azimuth</th>\n",
       "      <th>capacity</th>\n",
       "      <th>elev</th>\n",
       "    </tr>\n",
       "  </thead>\n",
       "  <tbody>\n",
       "    <tr>\n",
       "      <th>0</th>\n",
       "      <td>Building1</td>\n",
       "      <td>36.24558</td>\n",
       "      <td>28.16104</td>\n",
       "      <td>90</td>\n",
       "      <td>250</td>\n",
       "      <td>0.000</td>\n",
       "      <td>0</td>\n",
       "    </tr>\n",
       "    <tr>\n",
       "      <th>1</th>\n",
       "      <td>Building2</td>\n",
       "      <td>36.24583</td>\n",
       "      <td>28.16113</td>\n",
       "      <td>90</td>\n",
       "      <td>250</td>\n",
       "      <td>0.000</td>\n",
       "      <td>0</td>\n",
       "    </tr>\n",
       "    <tr>\n",
       "      <th>2</th>\n",
       "      <td>Building3</td>\n",
       "      <td>36.24609</td>\n",
       "      <td>28.16120</td>\n",
       "      <td>90</td>\n",
       "      <td>250</td>\n",
       "      <td>0.000</td>\n",
       "      <td>0</td>\n",
       "    </tr>\n",
       "    <tr>\n",
       "      <th>3</th>\n",
       "      <td>Building4</td>\n",
       "      <td>36.24623</td>\n",
       "      <td>28.16137</td>\n",
       "      <td>90</td>\n",
       "      <td>250</td>\n",
       "      <td>0.000</td>\n",
       "      <td>0</td>\n",
       "    </tr>\n",
       "    <tr>\n",
       "      <th>4</th>\n",
       "      <td>Building5</td>\n",
       "      <td>36.24637</td>\n",
       "      <td>28.16109</td>\n",
       "      <td>90</td>\n",
       "      <td>250</td>\n",
       "      <td>2.429</td>\n",
       "      <td>0</td>\n",
       "    </tr>\n",
       "  </tbody>\n",
       "</table>\n",
       "</div>"
      ],
      "text/plain": [
       "        name       lon       lat  tilt  azimuth  capacity  elev\n",
       "0  Building1  36.24558  28.16104    90      250     0.000     0\n",
       "1  Building2  36.24583  28.16113    90      250     0.000     0\n",
       "2  Building3  36.24609  28.16120    90      250     0.000     0\n",
       "3  Building4  36.24623  28.16137    90      250     0.000     0\n",
       "4  Building5  36.24637  28.16109    90      250     2.429     0"
      ]
     },
     "execution_count": 2,
     "metadata": {},
     "output_type": "execute_result"
    }
   ],
   "source": [
    "placements = pd.DataFrame()\n",
    "placements['name'] = ['Building1', 'Building2', 'Building3', 'Building4', 'Building5']\n",
    "placements['lon'] = [ 36.24558, 36.24583, 36.24609, 36.24623, 36.24637]     # Longitude\n",
    "placements['lat'] = [ 28.16104, 28.16113, 28.16120, 28.16137, 28.16109]    # Latitude\n",
    "placements['tilt'] = [ 90, 90, 90, 90, 90]   # System tilt in degrees 90 for wall\n",
    "placements['azimuth'] = [ 250, 250, 250, 250, 250 ]# System azimuth in degrees (orientation) south (SSW) facing\n",
    "placements['capacity'] = [ 0, 0, 0, 0, 2.429 ] # Total system capacity in kW for each building assuming 2sqm panels\n",
    "placements['elev'] = [ 0, 0, 0, 0, 0 ]      # Altitute in meters\n",
    "\n",
    "placements"
   ]
  },
  {
   "cell_type": "code",
   "execution_count": 3,
   "id": "c925898b",
   "metadata": {},
   "outputs": [
    {
     "name": "stdout",
     "output_type": "stream",
     "text": [
      "/Users/zaramulholland/reskit/reskit/_test/data/SARAH_try/SARAH-DNI.rhodes.y2016.nc\n",
      "/Users/zaramulholland/reskit/reskit/_test/data/SARAH_try/SARAH-SIS.rhodes.y2016.nc\n",
      "/Users/zaramulholland/reskit/reskit/_test/data/ERA5_try/reanalysis-era5-single-levels.rhodes.y2016.10m_wind_speed.processed.nc\n",
      "/Users/zaramulholland/reskit/reskit/_test/data/ERA5_try/reanalysis-era5-single-levels.rhodes.y2016.2m_dewpoint_temperature.nc\n",
      "/Users/zaramulholland/reskit/reskit/_test/data/ERA5_try/reanalysis-era5-single-levels.rhodes.y2016.2m_temperature.nc\n",
      "/Users/zaramulholland/reskit/reskit/_test/data/ERA5_try/reanalysis-era5-single-levels.rhodes.y2016.surface_pressure.nc\n"
     ]
    }
   ],
   "source": [
    "src_sarah=rk.weather.SarahSource(r\"/Users/zaramulholland/reskit/reskit/_test/data/SARAH_try\"),\n",
    "src_era5=rk.weather.Era5Source(r\"/Users/zaramulholland/reskit/reskit/_test/data/ERA5_try\")"
   ]
  },
  {
   "cell_type": "code",
   "execution_count": 4,
   "id": "34985a1c",
   "metadata": {},
   "outputs": [
    {
     "name": "stderr",
     "output_type": "stream",
     "text": [
      "/Users/zaramulholland/opt/anaconda3/envs/reskit/lib/python3.8/site-packages/pvlib/irradiance.py:1059: RuntimeWarning: divide by zero encountered in true_divide\n",
      "  eps = ((dhi + dni) / dhi + kappa * (z ** 3)) / (1 + kappa * (z ** 3))\n"
     ]
    }
   ],
   "source": [
    "sim_result = rk.solar.openfield_pv_sarah_unvalidated(\n",
    "    placements=placements,\n",
    "    sarah_path=r\"/Users/zaramulholland/reskit/reskit/_test/data/SARAH_try\",\n",
    "    era5_path=r\"/Users/zaramulholland/reskit/reskit/_test/data/ERA5_try\",\n",
    "    module='BIPV_BIPV054_T86',\n",
    "    tracking='fixed'\n",
    ")\n",
    "\n"
   ]
  },
  {
   "cell_type": "code",
   "execution_count": 5,
   "id": "f7d099bb",
   "metadata": {},
   "outputs": [],
   "source": [
    "output_df = sim_result['capacity_factor'].fillna(0).to_dataframe().unstack()\n"
   ]
  },
  {
   "cell_type": "code",
   "execution_count": 6,
   "id": "7f02ee19",
   "metadata": {},
   "outputs": [],
   "source": [
    "output_df.index = output_df.index.tz_localize(tz='UTC').tz_convert(tz='Europe/Athens')"
   ]
  },
  {
   "cell_type": "code",
   "execution_count": 7,
   "id": "2b4bd522",
   "metadata": {},
   "outputs": [],
   "source": [
    "output_df.columns = [('capacity_factor', 'Building1'),\n",
    "            ('capacity_factor', 'Building2'), \n",
    "            ('capacity_factor', 'Building3'),\n",
    "            ('capacity_factor', 'Building4'),\n",
    "            ('capacity_factor', 'Building5')]"
   ]
  },
  {
   "cell_type": "code",
   "execution_count": 8,
   "id": "90dac44f",
   "metadata": {},
   "outputs": [
    {
     "data": {
      "text/plain": [
       "Index([('capacity_factor', 'Building1'), ('capacity_factor', 'Building2'),\n",
       "       ('capacity_factor', 'Building3'), ('capacity_factor', 'Building4'),\n",
       "       ('capacity_factor', 'Building5')],\n",
       "      dtype='object')"
      ]
     },
     "execution_count": 8,
     "metadata": {},
     "output_type": "execute_result"
    }
   ],
   "source": [
    "output_df.columns"
   ]
  },
  {
   "cell_type": "code",
   "execution_count": 9,
   "id": "7f6df5f3",
   "metadata": {},
   "outputs": [],
   "source": [
    "output_df = output_df.resample('h').sum()"
   ]
  },
  {
   "cell_type": "code",
   "execution_count": 10,
   "id": "28fc14dc",
   "metadata": {},
   "outputs": [],
   "source": [
    "#output_df.to_csv(\"/Users/zaramulholland/reskit/PV_SOUTH.csv\")"
   ]
  },
  {
   "cell_type": "code",
   "execution_count": 13,
   "id": "978bffdb",
   "metadata": {},
   "outputs": [
    {
     "data": {
      "image/png": "[encoded data removed]",
      "text/plain": [
       "<Figure size 432x288 with 1 Axes>"
      ]
     },
     "metadata": {
      "needs_background": "light"
     },
     "output_type": "display_data"
    }
   ],
   "source": [
    "output_df =sim_result['total_system_generation'].sum(\"location\")\n",
    "\n",
    "plt.plot(output_df, color='black')\n",
    "\n",
    "plt.ylabel(\"System generation (kW)\", )\n",
    "plt.rcParams.update({'font.size': 12})\n",
    "#positions = (744, 1416, 2160, 2880, 3624, 4344, 5088, 5832, 6552, 7296, 8016, 8760)\n",
    "positions = (744, 2160, 3648, 5088, 6576, 8100, 9504, 10944, 12432, 13873, 15360, 16806)\n",
    "labels = (\"Jan\", \"Feb\", \"Mar\", \"Apr\", \"May\", \"Jun\", \"Jul\", \"Aug\", \"Sep\", \"Oct\", \"Nov\", \"Dec\")\n",
    "plt.xticks(positions, labels)\n",
    "plt.ylim(0, 1.75)\n",
    "#plt.savefig(\"SOUTH_Generation\", dpi=800)"
   ]
  },
  {
   "cell_type": "code",
   "execution_count": null,
   "id": "07e78474",
   "metadata": {},
   "outputs": [],
   "source": []
  }
 ],
 "metadata": {
  "kernelspec": {
   "display_name": "Python [conda env:reskit]",
   "language": "python",
   "name": "conda-env-reskit-py"
  },
  "language_info": {
   "codemirror_mode": {
    "name": "ipython",
    "version": 3
   },
   "file_extension": ".py",
   "mimetype": "text/x-python",
   "name": "python",
   "nbconvert_exporter": "python",
   "pygments_lexer": "ipython3",
   "version": "3.8.10"
  }
 },
 "nbformat": 4,
 "nbformat_minor": 5
}
