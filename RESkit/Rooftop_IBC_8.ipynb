{
 "cells": [
  {
   "cell_type": "code",
   "execution_count": 1,
   "id": "f5ff470c",
   "metadata": {},
   "outputs": [],
   "source": [
    "import reskit as rk\n",
    "import pandas as pd\n",
    "import pvlib\n",
    "import geokit as gk\n",
    "import xarray as xr\n",
    "import netCDF4 as nc\n",
    "from reskit import WorkflowManager\n",
    "\n",
    "import matplotlib.pyplot as plt\n",
    "%matplotlib inline"
   ]
  },
  {
   "cell_type": "code",
   "execution_count": 2,
   "id": "9ce0af03",
   "metadata": {},
   "outputs": [
    {
     "data": {
      "text/html": [
       "<div>\n",
       "<style scoped>\n",
       "    .dataframe tbody tr th:only-of-type {\n",
       "        vertical-align: middle;\n",
       "    }\n",
       "\n",
       "    .dataframe tbody tr th {\n",
       "        vertical-align: top;\n",
       "    }\n",
       "\n",
       "    .dataframe thead th {\n",
       "        text-align: right;\n",
       "    }\n",
       "</style>\n",
       "<table border=\"1\" class=\"dataframe\">\n",
       "  <thead>\n",
       "    <tr style=\"text-align: right;\">\n",
       "      <th></th>\n",
       "      <th>lon</th>\n",
       "      <th>lat</th>\n",
       "      <th>tilt</th>\n",
       "      <th>azimuth</th>\n",
       "      <th>capacity</th>\n",
       "      <th>elev</th>\n",
       "    </tr>\n",
       "  </thead>\n",
       "  <tbody>\n",
       "    <tr>\n",
       "      <th>0</th>\n",
       "      <td>36.24558</td>\n",
       "      <td>28.16104</td>\n",
       "      <td>8</td>\n",
       "      <td>180</td>\n",
       "      <td>21.90</td>\n",
       "      <td>0</td>\n",
       "    </tr>\n",
       "    <tr>\n",
       "      <th>1</th>\n",
       "      <td>36.24583</td>\n",
       "      <td>28.16113</td>\n",
       "      <td>8</td>\n",
       "      <td>180</td>\n",
       "      <td>17.50</td>\n",
       "      <td>0</td>\n",
       "    </tr>\n",
       "    <tr>\n",
       "      <th>2</th>\n",
       "      <td>36.24609</td>\n",
       "      <td>28.16120</td>\n",
       "      <td>8</td>\n",
       "      <td>180</td>\n",
       "      <td>0.00</td>\n",
       "      <td>0</td>\n",
       "    </tr>\n",
       "    <tr>\n",
       "      <th>3</th>\n",
       "      <td>36.24623</td>\n",
       "      <td>28.16137</td>\n",
       "      <td>8</td>\n",
       "      <td>180</td>\n",
       "      <td>15.00</td>\n",
       "      <td>0</td>\n",
       "    </tr>\n",
       "    <tr>\n",
       "      <th>4</th>\n",
       "      <td>36.24637</td>\n",
       "      <td>28.16109</td>\n",
       "      <td>8</td>\n",
       "      <td>180</td>\n",
       "      <td>26.25</td>\n",
       "      <td>0</td>\n",
       "    </tr>\n",
       "  </tbody>\n",
       "</table>\n",
       "</div>"
      ],
      "text/plain": [
       "        lon       lat  tilt  azimuth  capacity  elev\n",
       "0  36.24558  28.16104     8      180     21.90     0\n",
       "1  36.24583  28.16113     8      180     17.50     0\n",
       "2  36.24609  28.16120     8      180      0.00     0\n",
       "3  36.24623  28.16137     8      180     15.00     0\n",
       "4  36.24637  28.16109     8      180     26.25     0"
      ]
     },
     "execution_count": 2,
     "metadata": {},
     "output_type": "execute_result"
    }
   ],
   "source": [
    "placements = pd.DataFrame()\n",
    "placements['lon'] = [ 36.24558, 36.24583, 36.24609, 36.24623, 36.24637]     # Longitude\n",
    "placements['lat'] = [ 28.16104, 28.16113, 28.16120, 28.16137, 28.16109]    # Latitude\n",
    "placements['tilt'] = [ 8, 8, 8, 8, 8 ]   # System tilt in degrees (based on paper and annual energy demand profile)\n",
    "placements['azimuth'] = [ 180, 180, 180, 180, 180 ]# System azimuth in degrees (orientation) south facing\n",
    "placements['capacity'] = [ 21.9, 17.5, 0, 15, 26.25 ] # Total system capacity in kW per available roof area\n",
    "placements['elev'] = [ 0, 0, 0, 0, 0 ]      # Altitute in meters\n",
    "\n",
    "placements"
   ]
  },
  {
   "cell_type": "code",
   "execution_count": 3,
   "id": "64e5c020",
   "metadata": {
    "scrolled": true
   },
   "outputs": [
    {
     "name": "stdout",
     "output_type": "stream",
     "text": [
      "/Users/zaramulholland/reskit/reskit/_test/data/SARAH_try/SARAH-DNI.rhodes.y2016.nc\n",
      "/Users/zaramulholland/reskit/reskit/_test/data/SARAH_try/SARAH-SIS.rhodes.y2016.nc\n",
      "/Users/zaramulholland/reskit/reskit/_test/data/ERA5_try/reanalysis-era5-single-levels.rhodes.y2016.10m_wind_speed.processed.nc\n",
      "/Users/zaramulholland/reskit/reskit/_test/data/ERA5_try/reanalysis-era5-single-levels.rhodes.y2016.2m_dewpoint_temperature.nc\n",
      "/Users/zaramulholland/reskit/reskit/_test/data/ERA5_try/reanalysis-era5-single-levels.rhodes.y2016.2m_temperature.nc\n",
      "/Users/zaramulholland/reskit/reskit/_test/data/ERA5_try/reanalysis-era5-single-levels.rhodes.y2016.surface_pressure.nc\n"
     ]
    }
   ],
   "source": [
    "src_sarah=rk.weather.SarahSource(r\"/Users/zaramulholland/reskit/reskit/_test/data/SARAH_try\"),\n",
    "src_era5=rk.weather.Era5Source(r\"/Users/zaramulholland/reskit/reskit/_test/data/ERA5_try\")"
   ]
  },
  {
   "cell_type": "code",
   "execution_count": 4,
   "id": "c24addf9",
   "metadata": {},
   "outputs": [
    {
     "name": "stderr",
     "output_type": "stream",
     "text": [
      "/Users/zaramulholland/opt/anaconda3/envs/reskit/lib/python3.8/site-packages/pvlib/irradiance.py:1059: RuntimeWarning: divide by zero encountered in true_divide\n",
      "  eps = ((dhi + dni) / dhi + kappa * (z ** 3)) / (1 + kappa * (z ** 3))\n"
     ]
    }
   ],
   "source": [
    "sim_result = rk.solar.openfield_pv_sarah_unvalidated(\n",
    "    placements=placements,\n",
    "    sarah_path=r\"/Users/zaramulholland/reskit/reskit/_test/data/SARAH_try\",\n",
    "    era5_path=r\"/Users/zaramulholland/reskit/reskit/_test/data/ERA5_try\",\n",
    "    module='LG_Electronics_Inc__LG365Q1C_A5',\n",
    "    tracking='fixed'\n",
    ")\n",
    "\n",
    "# LG Electronics Inc. LG365Q1C-A5"
   ]
  },
  {
   "cell_type": "code",
   "execution_count": 5,
   "id": "a6f7311d",
   "metadata": {},
   "outputs": [],
   "source": [
    "output_df = sim_result['capacity_factor'].fillna(0).to_dataframe().unstack()\n"
   ]
  },
  {
   "cell_type": "code",
   "execution_count": 6,
   "id": "cbd64563",
   "metadata": {},
   "outputs": [],
   "source": [
    "output_df.index = output_df.index.tz_localize(tz='UTC').tz_convert(tz='Europe/Athens')"
   ]
  },
  {
   "cell_type": "code",
   "execution_count": 7,
   "id": "92e4fe5a",
   "metadata": {},
   "outputs": [],
   "source": [
    "output_df.columns = [('Building1'),\n",
    "            ('Building2'),\n",
    "            ('Building3'),\n",
    "            ('Building4'),\n",
    "            ('Building5')]"
   ]
  },
  {
   "cell_type": "code",
   "execution_count": 8,
   "id": "56b6c15d",
   "metadata": {
    "scrolled": true
   },
   "outputs": [
    {
     "data": {
      "text/plain": [
       "Index(['Building1', 'Building2', 'Building3', 'Building4', 'Building5'], dtype='object')"
      ]
     },
     "execution_count": 8,
     "metadata": {},
     "output_type": "execute_result"
    }
   ],
   "source": [
    "output_df.columns"
   ]
  },
  {
   "cell_type": "code",
   "execution_count": 9,
   "id": "8e24b42e",
   "metadata": {},
   "outputs": [],
   "source": [
    "output_df = output_df.resample('h').sum()"
   ]
  },
  {
   "cell_type": "code",
   "execution_count": 10,
   "id": "e8cf8049",
   "metadata": {},
   "outputs": [
    {
     "data": {
      "text/html": [
       "<div>\n",
       "<style scoped>\n",
       "    .dataframe tbody tr th:only-of-type {\n",
       "        vertical-align: middle;\n",
       "    }\n",
       "\n",
       "    .dataframe tbody tr th {\n",
       "        vertical-align: top;\n",
       "    }\n",
       "\n",
       "    .dataframe thead th {\n",
       "        text-align: right;\n",
       "    }\n",
       "</style>\n",
       "<table border=\"1\" class=\"dataframe\">\n",
       "  <thead>\n",
       "    <tr style=\"text-align: right;\">\n",
       "      <th></th>\n",
       "      <th>Building1</th>\n",
       "      <th>Building2</th>\n",
       "      <th>Building3</th>\n",
       "      <th>Building4</th>\n",
       "      <th>Building5</th>\n",
       "    </tr>\n",
       "    <tr>\n",
       "      <th>time</th>\n",
       "      <th></th>\n",
       "      <th></th>\n",
       "      <th></th>\n",
       "      <th></th>\n",
       "      <th></th>\n",
       "    </tr>\n",
       "  </thead>\n",
       "  <tbody>\n",
       "    <tr>\n",
       "      <th>2016-01-01 02:00:00+02:00</th>\n",
       "      <td>0.0</td>\n",
       "      <td>0.0</td>\n",
       "      <td>0.0</td>\n",
       "      <td>0.0</td>\n",
       "      <td>0.0</td>\n",
       "    </tr>\n",
       "    <tr>\n",
       "      <th>2016-01-01 03:00:00+02:00</th>\n",
       "      <td>0.0</td>\n",
       "      <td>0.0</td>\n",
       "      <td>0.0</td>\n",
       "      <td>0.0</td>\n",
       "      <td>0.0</td>\n",
       "    </tr>\n",
       "    <tr>\n",
       "      <th>2016-01-01 04:00:00+02:00</th>\n",
       "      <td>0.0</td>\n",
       "      <td>0.0</td>\n",
       "      <td>0.0</td>\n",
       "      <td>0.0</td>\n",
       "      <td>0.0</td>\n",
       "    </tr>\n",
       "    <tr>\n",
       "      <th>2016-01-01 05:00:00+02:00</th>\n",
       "      <td>0.0</td>\n",
       "      <td>0.0</td>\n",
       "      <td>0.0</td>\n",
       "      <td>0.0</td>\n",
       "      <td>0.0</td>\n",
       "    </tr>\n",
       "    <tr>\n",
       "      <th>2016-01-01 06:00:00+02:00</th>\n",
       "      <td>0.0</td>\n",
       "      <td>0.0</td>\n",
       "      <td>0.0</td>\n",
       "      <td>0.0</td>\n",
       "      <td>0.0</td>\n",
       "    </tr>\n",
       "    <tr>\n",
       "      <th>...</th>\n",
       "      <td>...</td>\n",
       "      <td>...</td>\n",
       "      <td>...</td>\n",
       "      <td>...</td>\n",
       "      <td>...</td>\n",
       "    </tr>\n",
       "    <tr>\n",
       "      <th>2016-12-31 21:00:00+02:00</th>\n",
       "      <td>0.0</td>\n",
       "      <td>0.0</td>\n",
       "      <td>0.0</td>\n",
       "      <td>0.0</td>\n",
       "      <td>0.0</td>\n",
       "    </tr>\n",
       "    <tr>\n",
       "      <th>2016-12-31 22:00:00+02:00</th>\n",
       "      <td>0.0</td>\n",
       "      <td>0.0</td>\n",
       "      <td>0.0</td>\n",
       "      <td>0.0</td>\n",
       "      <td>0.0</td>\n",
       "    </tr>\n",
       "    <tr>\n",
       "      <th>2016-12-31 23:00:00+02:00</th>\n",
       "      <td>0.0</td>\n",
       "      <td>0.0</td>\n",
       "      <td>0.0</td>\n",
       "      <td>0.0</td>\n",
       "      <td>0.0</td>\n",
       "    </tr>\n",
       "    <tr>\n",
       "      <th>2017-01-01 00:00:00+02:00</th>\n",
       "      <td>0.0</td>\n",
       "      <td>0.0</td>\n",
       "      <td>0.0</td>\n",
       "      <td>0.0</td>\n",
       "      <td>0.0</td>\n",
       "    </tr>\n",
       "    <tr>\n",
       "      <th>2017-01-01 01:00:00+02:00</th>\n",
       "      <td>0.0</td>\n",
       "      <td>0.0</td>\n",
       "      <td>0.0</td>\n",
       "      <td>0.0</td>\n",
       "      <td>0.0</td>\n",
       "    </tr>\n",
       "  </tbody>\n",
       "</table>\n",
       "<p>8784 rows × 5 columns</p>\n",
       "</div>"
      ],
      "text/plain": [
       "                           Building1  Building2  Building3  Building4  \\\n",
       "time                                                                    \n",
       "2016-01-01 02:00:00+02:00        0.0        0.0        0.0        0.0   \n",
       "2016-01-01 03:00:00+02:00        0.0        0.0        0.0        0.0   \n",
       "2016-01-01 04:00:00+02:00        0.0        0.0        0.0        0.0   \n",
       "2016-01-01 05:00:00+02:00        0.0        0.0        0.0        0.0   \n",
       "2016-01-01 06:00:00+02:00        0.0        0.0        0.0        0.0   \n",
       "...                              ...        ...        ...        ...   \n",
       "2016-12-31 21:00:00+02:00        0.0        0.0        0.0        0.0   \n",
       "2016-12-31 22:00:00+02:00        0.0        0.0        0.0        0.0   \n",
       "2016-12-31 23:00:00+02:00        0.0        0.0        0.0        0.0   \n",
       "2017-01-01 00:00:00+02:00        0.0        0.0        0.0        0.0   \n",
       "2017-01-01 01:00:00+02:00        0.0        0.0        0.0        0.0   \n",
       "\n",
       "                           Building5  \n",
       "time                                  \n",
       "2016-01-01 02:00:00+02:00        0.0  \n",
       "2016-01-01 03:00:00+02:00        0.0  \n",
       "2016-01-01 04:00:00+02:00        0.0  \n",
       "2016-01-01 05:00:00+02:00        0.0  \n",
       "2016-01-01 06:00:00+02:00        0.0  \n",
       "...                              ...  \n",
       "2016-12-31 21:00:00+02:00        0.0  \n",
       "2016-12-31 22:00:00+02:00        0.0  \n",
       "2016-12-31 23:00:00+02:00        0.0  \n",
       "2017-01-01 00:00:00+02:00        0.0  \n",
       "2017-01-01 01:00:00+02:00        0.0  \n",
       "\n",
       "[8784 rows x 5 columns]"
      ]
     },
     "execution_count": 10,
     "metadata": {},
     "output_type": "execute_result"
    }
   ],
   "source": [
    "output_df"
   ]
  },
  {
   "cell_type": "code",
   "execution_count": 11,
   "id": "59dabae6",
   "metadata": {},
   "outputs": [],
   "source": [
    "#output_df.to_csv(\"/Users/zaramulholland/Desktop/DataModelling/IBC_25.csv\")"
   ]
  },
  {
   "cell_type": "code",
   "execution_count": 12,
   "id": "39e9f70d",
   "metadata": {},
   "outputs": [
    {
     "data": {
      "text/plain": [
       "(0.0, 70.0)"
      ]
     },
     "execution_count": 12,
     "metadata": {},
     "output_type": "execute_result"
    },
    {
     "data": {
      "image/png": "[encoded data removed]",
      "text/plain": [
       "<Figure size 432x288 with 1 Axes>"
      ]
     },
     "metadata": {
      "needs_background": "light"
     },
     "output_type": "display_data"
    }
   ],
   "source": [
    "output_df =sim_result['total_system_generation'].sum(\"location\")\n",
    "\n",
    "plt.plot(output_df, color='red')\n",
    "\n",
    "plt.ylabel(\"System generation (kW)\", )\n",
    "plt.rcParams.update({'font.size': 12})\n",
    "#positions = (744, 1416, 2160, 2880, 3624, 4344, 5088, 5832, 6552, 7296, 8016, 8760)\n",
    "positions = (744, 2160, 3648, 5088, 6576, 8100, 9504, 10944, 12432, 13873, 15360, 16806)\n",
    "labels = (\"Jan\", \"Feb\", \"Mar\", \"Apr\", \"May\", \"Jun\", \"Jul\", \"Aug\", \"Sep\", \"Oct\", \"Nov\", \"Dec\")\n",
    "plt.xticks(positions, labels)\n",
    "plt.ylim(0, 70)\n",
    "#plt.savefig(\"IBC8_Generation\", dpi=800)"
   ]
  },
  {
   "cell_type": "code",
   "execution_count": null,
   "id": "3af5eb04",
   "metadata": {},
   "outputs": [],
   "source": []
  }
 ],
 "metadata": {
  "kernelspec": {
   "display_name": "Python [conda env:reskit]",
   "language": "python",
   "name": "conda-env-reskit-py"
  },
  "language_info": {
   "codemirror_mode": {
    "name": "ipython",
    "version": 3
   },
   "file_extension": ".py",
   "mimetype": "text/x-python",
   "name": "python",
   "nbconvert_exporter": "python",
   "pygments_lexer": "ipython3",
   "version": "3.8.10"
  }
 },
 "nbformat": 4,
 "nbformat_minor": 5
}
