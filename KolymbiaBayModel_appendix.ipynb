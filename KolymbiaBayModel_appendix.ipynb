{
 "cells": [
  {
   "cell_type": "markdown",
   "id": "3955c514",
   "metadata": {},
   "source": [
    "# Kolymbia Bay energy system model\n",
    "\n",
    "Modelling two variations of rooftop PV panels (IBC and Thin film) on buildings 1, 2, 4 and, 5 as well as BIPV on balconies (buildings 1-3) and the south facade of building 1. \n",
    "Buildings 1,2,4 and, 5 have roof area available for rooftop PV at areas of 120, 110, 84 and 140 (sqm) respectively. \n",
    "Balcony area available on buildings 1, 2 and, 3 are 36, 10 and 36 (sqm) respectively.\n",
    "Facade area available for BIPV on building 1 = 17sqm. \n",
    "\n",
    "\n",
    "Modelling each building as a different location to account for installation costs which include DC cables to connect each building to the energy metre. \n",
    "Each building labelled Building1, Building2 ....\n",
    "and the energy metre labelled as KolymbiaBay\n",
    "\n",
    "7 model runs:\n",
    "1. Utility only \n",
    "2. 25 degrees tilt, no limit to CO2 emissions (optimal cost), full energy demand\n",
    "3. 25 degrees tilt, max limit to CO2 emissions, full energy demand\n",
    "4. 8 degrees tilt, no limit to CO2 emissions (optimal cost), full energy demand\n",
    "5. 8 degrees tilt, max limit to CO2 emissions, full energy demand\n",
    "6. 8 degrees tilt, no limit to CO2 emissions (optimal cost), reduced energy demand\n",
    "7. 8 degrees tilt, max limit to CO2 emissions, reduced energy demand\n",
    "\n",
    "max limit to CO2 emissions found when CO2 reduction target results in an 'infeasible solution' meaning the energy system is not sustainable without greater inputs from the utility provider.\n",
    "\n",
    "The listed runs will analyse:\n",
    "\n",
    "- the preferred PV tech \n",
    "1. high efficency, high cost \n",
    "2. low efficiency, low cost\n",
    "3. BIPV\n",
    "\n",
    "- Optimum tilt angle. \n",
    "The optimum angle varies throughout the year. Will the PV system be more effective with the optimum tilt required for max generation in July and August when demand is high (8 degrees) or is it better to have an average tilt that is optimal for annual generation (25 degrees).\n",
    "\n",
    "- The effect of energy saving strategies\n",
    "Looking at hotel specific data ~ 50% of energy demand during summer accounts for cooling. Can run same model with 80% energy demand during the months April-October to mimic reduced energy consumption. \n",
    "\n",
    "This is carried out at hourly timesteps\n",
    "\n",
    "Inverter = Power Electronics: FS1003CU\n",
    "\n",
    "Comparing the CO2 emissions and cost associated with each combination. "
   ]
  },
  {
   "cell_type": "markdown",
   "id": "b1d088c6",
   "metadata": {},
   "source": [
    "## Sources\n",
    "1. PV IBC, Roof 1\n",
    "2. PV IBC, Roof 2\n",
    "3. PV IBC, Roof 4\n",
    "4. PV IBC, Roof 5\n",
    "\n",
    "\n",
    "5. Thin film, Roof 1\n",
    "6. Thin film, Roof 2\n",
    "7. Thin film, Roof 4\n",
    "8. Thin film, Roof 5\n",
    "\n",
    "\n",
    "9. BIPV, Balcony 1\n",
    "10. BIPV, Balcony 2\n",
    "11. BIPV, Balcony 3\n",
    "12. BIPV, South facade\n",
    "\n",
    "\n",
    "\n",
    "13. Utility provider (electricity)\n",
    "\n"
   ]
  },
  {
   "cell_type": "markdown",
   "id": "c1a9a881",
   "metadata": {},
   "source": [
    "# Sinks\n",
    "1. Hotel Electricity Demand \n",
    "2. CO2 to environment \n",
    "3. Utility provider (for surplus generation)"
   ]
  },
  {
   "cell_type": "markdown",
   "id": "90c39da0",
   "metadata": {},
   "source": [
    "# Conversion \n",
    "1. Inverter \n",
    "2. Virtual CO2 conversion (energy from prover to CO2 emissions)"
   ]
  },
  {
   "cell_type": "markdown",
   "id": "88b594b8",
   "metadata": {},
   "source": [
    "# Storage \n",
    "No storage - assuming net metering system only"
   ]
  },
  {
   "cell_type": "markdown",
   "id": "c9e013f3",
   "metadata": {},
   "source": [
    "# Transmission\n",
    "\n",
    "Cables between buildings\n",
    "\n",
    "Set hotel as a location - 1 demand for 'kolymbia Bay' 0 for the rest (5 buildings).\n",
    "Hotel location doesnt have any potential to produce energy from PV\n",
    "Transmission to transfer from PV generation on buildings to demand in energy metre \n"
   ]
  },
  {
   "cell_type": "markdown",
   "id": "07debcd0",
   "metadata": {},
   "source": [
    "# Import packages"
   ]
  },
  {
   "cell_type": "code",
   "execution_count": 1,
   "id": "e0583934",
   "metadata": {},
   "outputs": [],
   "source": [
    "import FINE as fn\n",
    "from getData import getData\n",
    "\n",
    "import pandas as pd\n",
    "import os\n",
    "import openpyxl\n",
    "\n",
    "cwd = os.getcwd()\n",
    "data = getData()\n"
   ]
  },
  {
   "cell_type": "markdown",
   "id": "f3142095",
   "metadata": {},
   "source": [
    "# Input parameters"
   ]
  },
  {
   "cell_type": "code",
   "execution_count": 2,
   "id": "8ba335cf",
   "metadata": {},
   "outputs": [],
   "source": [
    "# define locations \n",
    "locations = {'Building1', 'Building2', 'Building3', 'Building4', 'Building5', 'KolymbiaBay'} #need hotel as location??\n",
    "commodityUnitDict = {\"powerAC\": r\"kW$_{el}$\", \"powerDC\": r\"kW$_{el}$\", \"CO2\": r\"kg$_{CO_2}$/h\", \"utility\":r\"kW$_{el}$\"}\n",
    "commodities = {\"powerAC\", \"powerDC\", \"CO2\", \"utility\" }\n",
    "numberOfTimeSteps = 8760\n",
    "hoursPerTimeStep = 1\n",
    "\n",
    "# Code\n",
    "esM = fn.EnergySystemModel(locations=locations, commodities=commodities,\n",
    "    numberOfTimeSteps=numberOfTimeSteps, commodityUnitsDict=commodityUnitDict,\n",
    "    hoursPerTimeStep=hoursPerTimeStep, verboseLogLevel=0)"
   ]
  },
  {
   "cell_type": "markdown",
   "id": "d0a8f63a",
   "metadata": {},
   "source": [
    "# Create energy system model"
   ]
  },
  {
   "cell_type": "code",
   "execution_count": 3,
   "id": "459a0061",
   "metadata": {},
   "outputs": [],
   "source": [
    "esM = fn.EnergySystemModel(\n",
    "    locations=locations,\n",
    "    commodities=commodities,\n",
    "    numberOfTimeSteps=numberOfTimeSteps,\n",
    "    commodityUnitsDict=commodityUnitDict,\n",
    "    hoursPerTimeStep=hoursPerTimeStep,\n",
    "    costUnit=\"Euro\",\n",
    "    lengthUnit=\"km\",\n",
    "    verboseLogLevel=0,\n",
    ")"
   ]
  },
  {
   "cell_type": "markdown",
   "id": "bf643b3d",
   "metadata": {},
   "source": [
    "# Source: Interdigitated Back Contact (IBC) PV"
   ]
  },
  {
   "cell_type": "markdown",
   "id": "fe7e43be",
   "metadata": {},
   "source": [
    "Add data\n",
    "\n",
    "Change operation_25 to operation_8 in variations 4,5,6,7\n",
    "\n",
    "For 'utility only' comment out all PV sources "
   ]
  },
  {
   "cell_type": "code",
   "execution_count": 4,
   "id": "c5e81799",
   "metadata": {},
   "outputs": [],
   "source": [
    "IBC_operationRateMax = pd.read_excel(os.path.join('/Users/zaramulholland/Desktop/DataModelling/IBC.xlsx'),  \n",
    "                                     sheet_name ='operation_25',header = 0, index_col = 0, engine='openpyxl')\n",
    "IBC_capacityMax = pd.read_excel(os.path.join('/Users/zaramulholland/Desktop/DataModelling/IBC.xlsx'),  \n",
    "                                sheet_name ='capacities', index_col=0, engine='openpyxl',squeeze=True)"
   ]
  },
  {
   "cell_type": "markdown",
   "id": "a7cc85e1",
   "metadata": {},
   "source": [
    "Add source to model"
   ]
  },
  {
   "cell_type": "code",
   "execution_count": 5,
   "id": "401f04be",
   "metadata": {},
   "outputs": [],
   "source": [
    "esM.add(fn.Source(esM=esM, \n",
    "                  name='PV_IBC', \n",
    "                  commodity='powerDC', \n",
    "                  hasCapacityVariable=True,\n",
    "                  operationRateMax=IBC_operationRateMax, \n",
    "                  capacityMax=IBC_capacityMax,\n",
    "                  investIfBuilt=700, #labour cost 2 days\n",
    "                  investPerCapacity=812.3, #total cost for given area divided by capacity for that area\n",
    "                  opexPerCapacity=812.3*0.02, #maintainence\n",
    "                  interestRate=0.08, #assume 8 percent\n",
    "                  economicLifetime=25,\n",
    "                  hasIsBuiltBinaryVariable=True,\n",
    "                  bigM=50,\n",
    "                  sharedPotentialID='rooftop')) #prevents IBC and thinfilm at same time\n",
    "\n"
   ]
  },
  {
   "cell_type": "markdown",
   "id": "679ebd05",
   "metadata": {},
   "source": [
    "# Source: PV thin film "
   ]
  },
  {
   "cell_type": "markdown",
   "id": "6835096d",
   "metadata": {},
   "source": [
    "Add data\n",
    "\n",
    "Change operation_25 to operation_8 in variations 4,5,6,7\n",
    "\n",
    "For 'utility only' comment out all PV sources "
   ]
  },
  {
   "cell_type": "code",
   "execution_count": 6,
   "id": "bf597c68",
   "metadata": {},
   "outputs": [],
   "source": [
    "thinfilm_operationRateMax = pd.read_excel(os.path.join('/Users/zaramulholland/Desktop/DataModelling/thinfilm.xlsx'),  \n",
    "                                     sheet_name ='operation_25',header = 0, index_col = 0, engine='openpyxl')\n",
    "thinfilm_capacityMax = pd.read_excel(os.path.join('/Users/zaramulholland/Desktop/DataModelling/thinfilm.xlsx'),  \n",
    "                                sheet_name ='capacities', index_col=0, engine='openpyxl',squeeze=True)"
   ]
  },
  {
   "cell_type": "code",
   "execution_count": 7,
   "id": "174cbd7a",
   "metadata": {},
   "outputs": [],
   "source": [
    "#less maintainance and cheaper to install, shorter economiclifetime\n",
    "esM.add(fn.Source(esM=esM, \n",
    "                  name='PV_thinfilm', \n",
    "                  commodity='powerDC', \n",
    "                  hasCapacityVariable=True,\n",
    "                  operationRateMax=thinfilm_operationRateMax, \n",
    "                  capacityMax=thinfilm_capacityMax,\n",
    "                  investIfBuilt=700, #labour cost 2 days \n",
    "                  investPerCapacity=1053, #total cost for given area divided by capacity for that area\n",
    "                  opexPerCapacity=1053*0.01, #maintainence\n",
    "                  interestRate=0.08, #assume 8 percent\n",
    "                  economicLifetime=20,\n",
    "                  hasIsBuiltBinaryVariable=True,\n",
    "                  bigM=50,\n",
    "                  sharedPotentialID='rooftop')) #shared potential to stop IBC and thinfilm on same area.\n",
    "                 "
   ]
  },
  {
   "cell_type": "markdown",
   "id": "0302cf70",
   "metadata": {},
   "source": [
    "# Source: BIPV balcony "
   ]
  },
  {
   "cell_type": "markdown",
   "id": "8e748ab8",
   "metadata": {},
   "source": [
    "Add data\n",
    "\n",
    "For 'utility only' comment out all PV sources "
   ]
  },
  {
   "cell_type": "code",
   "execution_count": 8,
   "id": "82a83769",
   "metadata": {},
   "outputs": [],
   "source": [
    "BALC_operationRateMax = pd.read_excel(os.path.join('/Users/zaramulholland/Desktop/DataModelling/PV_BALC.xlsx'),  \n",
    "                                     sheet_name ='BALC_operation_hourly_group',header = 0, index_col = 0, engine='openpyxl')\n",
    "BALC_capacityMax = pd.read_excel(os.path.join('/Users/zaramulholland/Desktop/DataModelling/PV_BALC.xlsx'),  \n",
    "                                sheet_name ='BALC_capacities', index_col=0, engine='openpyxl',squeeze=True)"
   ]
  },
  {
   "cell_type": "markdown",
   "id": "2a839cb1",
   "metadata": {},
   "source": [
    "Add source"
   ]
  },
  {
   "cell_type": "code",
   "execution_count": 9,
   "id": "697e7bd2",
   "metadata": {},
   "outputs": [],
   "source": [
    "esM.add(fn.Source(esM=esM, \n",
    "                  name='PV_BALC', \n",
    "                  commodity='powerDC', \n",
    "                  hasCapacityVariable=True,\n",
    "                  operationRateMax=BALC_operationRateMax, \n",
    "                  capacityMax=BALC_capacityMax,\n",
    "                  investIfBuilt=700, #labour cost 2 days\n",
    "                  investPerCapacity=407.5, #total cost for given area divided by capacity for that area\n",
    "                  opexPerCapacity=407.5*0.03, #maintainence greater\n",
    "                  interestRate=0.08,\n",
    "                  hasIsBuiltBinaryVariable=True,\n",
    "                  bigM=50,\n",
    "                  economicLifetime=35,))\n",
    "               \n",
    "\n",
    "#ONYX"
   ]
  },
  {
   "cell_type": "markdown",
   "id": "b1105418",
   "metadata": {},
   "source": [
    "# Source: BIPV south facade"
   ]
  },
  {
   "cell_type": "markdown",
   "id": "f6c2c845",
   "metadata": {},
   "source": [
    "For 'utility only' comment out all PV sources "
   ]
  },
  {
   "cell_type": "code",
   "execution_count": 10,
   "id": "d8633c51",
   "metadata": {},
   "outputs": [],
   "source": [
    "SOUTH_operationRateMax = pd.read_excel(os.path.join('/Users/zaramulholland/Desktop/DataModelling/PV_SOUTH.xlsx'),  \n",
    "                                     sheet_name ='SOUTH_operation_hourly_group',header = 0, index_col = 0, engine='openpyxl')\n",
    "SOUTH_capacityMax = pd.read_excel(os.path.join('/Users/zaramulholland/Desktop/DataModelling/PV_SOUTH.xlsx'),  \n",
    "                                sheet_name ='SOUTH_capacities', index_col=0, engine='openpyxl',squeeze=True)\n"
   ]
  },
  {
   "cell_type": "code",
   "execution_count": 11,
   "id": "2cf80784",
   "metadata": {},
   "outputs": [],
   "source": [
    "esM.add(fn.Source(esM=esM, \n",
    "                  name='PV_SOUTH', \n",
    "                  commodity='powerDC', \n",
    "                  hasCapacityVariable=True,\n",
    "                  operationRateMax=SOUTH_operationRateMax, \n",
    "                  capacityMax=SOUTH_capacityMax,\n",
    "                  investIfBuilt=700, #labour cost 2 days\n",
    "                  investPerCapacity=696.7, \n",
    "                  opexPerCapacity=696.7*0.02,\n",
    "                  hasIsBuiltBinaryVariable=True,\n",
    "                  bigM=50,\n",
    "                  interestRate=0.08,\n",
    "                  economicLifetime=25))"
   ]
  },
  {
   "cell_type": "markdown",
   "id": "ba53ee3b",
   "metadata": {},
   "source": [
    "# Source: Electricity provider"
   ]
  },
  {
   "cell_type": "code",
   "execution_count": 12,
   "id": "8aeee3b3",
   "metadata": {},
   "outputs": [],
   "source": [
    "# import locationalEligibility Dataframe\n",
    "CO2_locs= pd.read_excel(os.path.join('/Users/zaramulholland/Desktop/DataModelling/LocationalEligability.xlsx'),  \n",
    "                                sheet_name ='Locs', index_col=0, engine='openpyxl',squeeze=True)"
   ]
  },
  {
   "cell_type": "code",
   "execution_count": 13,
   "id": "a1a98728",
   "metadata": {},
   "outputs": [],
   "source": [
    "esM.add(fn.Source(esM=esM, \n",
    "                  name='Utility', \n",
    "                  commodity='utility', \n",
    "                  hasCapacityVariable=False,\n",
    "                  commodityCost=0.0779, # from energy bills (euro/kWh)\n",
    "                  locationalEligibility=CO2_locs,\n",
    "                )) \n"
   ]
  },
  {
   "cell_type": "markdown",
   "id": "a94df589",
   "metadata": {},
   "source": [
    "# Conversion: Virtual Conversion CO2"
   ]
  },
  {
   "cell_type": "code",
   "execution_count": 14,
   "id": "631e0d8b",
   "metadata": {},
   "outputs": [],
   "source": [
    "esM.add(\n",
    "            fn.Conversion(\n",
    "                esM=esM,\n",
    "                name=\"CO2Emissions\",\n",
    "                physicalUnit=r\"kW$_{el}$\",\n",
    "                commodityConversionFactors={\"utility\": -1, \"powerAC\": 1, \"CO2\":0.42},\n",
    "                locationalEligibility=CO2_locs,\n",
    "                \n",
    "            )\n",
    "        ) \n",
    "#  CO2 component - 0.42kg/kWh"
   ]
  },
  {
   "cell_type": "markdown",
   "id": "96126c8f",
   "metadata": {},
   "source": [
    "# Conerverion: Inverter"
   ]
  },
  {
   "cell_type": "code",
   "execution_count": 15,
   "id": "357120df",
   "metadata": {},
   "outputs": [],
   "source": [
    "\n",
    "esM.add(\n",
    "            fn.Conversion(\n",
    "                esM=esM,\n",
    "                name=\"Inverter\",\n",
    "                physicalUnit=r\"kW$_{el}$\",\n",
    "                commodityConversionFactors={\"powerAC\": 0.97, \"powerDC\": -1},\n",
    "                locationalEligibility=CO2_locs,\n",
    "            )\n",
    "        )"
   ]
  },
  {
   "cell_type": "markdown",
   "id": "012b3804",
   "metadata": {},
   "source": [
    "# Transmisson"
   ]
  },
  {
   "cell_type": "markdown",
   "id": "6d3d9f78",
   "metadata": {},
   "source": [
    "add data for locationaleligibility and cost of cabling between buildings and energy metre. Assumed locations joined as follows:\n",
    "1 joins to 2\n",
    "2 joins to 3\n",
    "3 joins to 4\n",
    "4 joins to metre\n",
    "5 joins to metre"
   ]
  },
  {
   "cell_type": "code",
   "execution_count": 16,
   "id": "9a4792d6",
   "metadata": {},
   "outputs": [],
   "source": [
    "Trans_locs= pd.read_excel(os.path.join('/Users/zaramulholland/Desktop/DataModelling/Transmission.xlsx'),  \n",
    "                                sheet_name ='LocationalE', index_col=0, engine='openpyxl',squeeze=True)\n",
    "Trans_cost= pd.read_excel(os.path.join('/Users/zaramulholland/Desktop/DataModelling/Transmission.xlsx'),  \n",
    "                                sheet_name ='Cost', index_col=0, engine='openpyxl',squeeze=True)"
   ]
  },
  {
   "cell_type": "code",
   "execution_count": 17,
   "id": "aa3d973a",
   "metadata": {},
   "outputs": [
    {
     "name": "stdout",
     "output_type": "stream",
     "text": [
      "The distances of a component are set to a normalized value of 1.\n"
     ]
    }
   ],
   "source": [
    "esM.add(fn.Transmission(esM=esM, \n",
    "                        name='AC cables', \n",
    "                        commodity='powerAC',\n",
    "                        hasCapacityVariable=True,\n",
    "                        hasIsBuiltBinaryVariable=True,\n",
    "                        locationalEligibility=Trans_locs,\n",
    "                        investIfBuilt=Trans_cost,\n",
    "                        bigM=50))"
   ]
  },
  {
   "cell_type": "code",
   "execution_count": 18,
   "id": "e54f9498",
   "metadata": {},
   "outputs": [
    {
     "name": "stdout",
     "output_type": "stream",
     "text": [
      "The distances of a component are set to a normalized value of 1.\n"
     ]
    }
   ],
   "source": [
    "esM.add(fn.Transmission(esM=esM, \n",
    "                        name='DC cables', \n",
    "                        commodity='powerDC',\n",
    "                        hasCapacityVariable=True,\n",
    "                        hasIsBuiltBinaryVariable=True,\n",
    "                        locationalEligibility=Trans_locs,\n",
    "                        investIfBuilt=Trans_cost,\n",
    "                        bigM=100))\n",
    "                        "
   ]
  },
  {
   "cell_type": "markdown",
   "id": "0c155b6a",
   "metadata": {},
   "source": [
    "# Sink: Electricity demand "
   ]
  },
  {
   "cell_type": "code",
   "execution_count": 19,
   "id": "d6d6b486",
   "metadata": {},
   "outputs": [],
   "source": [
    "# Electricity demand data\n",
    "    operationRateFix = pd.read_excel(os.path.join(\"/Users/zaramulholland/Desktop/DataModelling/Hotel_EnergyDemand.xlsx\"), \n",
    "                                     sheet_name='HotelDemand', header=0, index_col = 0,  engine='openpyxl')\n",
    "\n",
    "\n"
   ]
  },
  {
   "cell_type": "code",
   "execution_count": 20,
   "id": "1b396383",
   "metadata": {},
   "outputs": [],
   "source": [
    "# Add sink\n",
    "esM.add(\n",
    "    fn.Sink(\n",
    "        esM=esM,\n",
    "        name=\"Electricity demand\",\n",
    "        commodity=\"powerAC\",\n",
    "        hasCapacityVariable=False,\n",
    "        operationRateFix=operationRateFix,\n",
    "    )\n",
    ")"
   ]
  },
  {
   "cell_type": "markdown",
   "id": "b3f1ff6b",
   "metadata": {},
   "source": [
    "# Sink: Add utility provider as a sink (surplus from PV generation)"
   ]
  },
  {
   "cell_type": "code",
   "execution_count": 21,
   "id": "0337b170",
   "metadata": {},
   "outputs": [],
   "source": [
    "esM.add(\n",
    "    fn.Sink(\n",
    "        esM=esM,\n",
    "        name=\"Surplus to Utility\",\n",
    "        commodity=\"powerAC\",\n",
    "        hasCapacityVariable=False,\n",
    "        locationalEligibility=CO2_locs  \n",
    "    )\n",
    ")\n",
    "\n"
   ]
  },
  {
   "cell_type": "markdown",
   "id": "476ff43d",
   "metadata": {},
   "source": [
    "# Sink: CO2 to environment"
   ]
  },
  {
   "cell_type": "code",
   "execution_count": 22,
   "id": "6e6bde91",
   "metadata": {},
   "outputs": [],
   "source": [
    "CO2_reductionTarget = 1"
   ]
  },
  {
   "cell_type": "code",
   "execution_count": 23,
   "id": "edd39196",
   "metadata": {},
   "outputs": [],
   "source": [
    "esM.add(fn.Sink(esM=esM, name='CO2 to enviroment', commodity='CO2',\n",
    "                hasCapacityVariable=False,\n",
    "                locationalEligibility=CO2_locs,\n",
    "                commodityLimitID='CO2 limit',\n",
    "                \n",
    "                yearlyLimit=161599*(CO2_reductionTarget))) # 161599 = CO2 emissions when all from utility\n",
    "               \n"
   ]
  },
  {
   "cell_type": "code",
   "execution_count": 24,
   "id": "cf93353a",
   "metadata": {},
   "outputs": [
    {
     "name": "stdout",
     "output_type": "stream",
     "text": [
      "\n",
      "Clustering time series data with 10 typical periods and 24 time steps per period...\n",
      "\t\t(0.9973 sec)\n",
      "\n"
     ]
    }
   ],
   "source": [
    "# Optimise (100 for increased accuracy) \n",
    "\n",
    "esM.cluster(numberOfTypicalPeriods=10)"
   ]
  },
  {
   "cell_type": "code",
   "execution_count": 25,
   "id": "1b1e2999",
   "metadata": {},
   "outputs": [
    {
     "name": "stdout",
     "output_type": "stream",
     "text": [
      "Time series aggregation specifications:\n",
      "Number of typical periods:10, number of time steps per period:24\n",
      "\n",
      "Declaring sets, variables and constraints for SourceSinkModel\n",
      "\tdeclaring sets... \n",
      "\tdeclaring variables... \n",
      "\tdeclaring constraints... \n",
      "\t\t(0.2609 sec)\n",
      "\n",
      "Declaring sets, variables and constraints for ConversionModel\n",
      "\tdeclaring sets... \n",
      "\tdeclaring variables... \n",
      "\tdeclaring constraints... \n",
      "\t\t(0.0216 sec)\n",
      "\n",
      "Declaring sets, variables and constraints for TransmissionModel\n",
      "\tdeclaring sets... \n",
      "\tdeclaring variables... \n",
      "\tdeclaring constraints... \n",
      "\t\t(0.2162 sec)\n",
      "\n",
      "Declaring shared potential constraint...\n",
      "\t\t(0.0007 sec)\n",
      "\n",
      "Declaring linked component quantity constraint...\n",
      "\t\t(0.0000 sec)\n",
      "\n",
      "Declaring commodity balances...\n",
      "\t\t(0.2784 sec)\n",
      "\n",
      "\t\t(0.0003 sec)\n",
      "\n",
      "Declaring objective function...\n",
      "\t\t(0.0738 sec)\n",
      "\n",
      "GLPSOL: GLPK LP/MIP Solver, v4.65\n",
      "Parameter(s) specified in the command line:\n",
      " --write /var/folders/4j/c81mn4v50575c7kg4t3hp85r0000gn/T/tmp2hf3d5eb.glpk.raw\n",
      " --wglp /var/folders/4j/c81mn4v50575c7kg4t3hp85r0000gn/T/tmpb9k4edrp.glpk.glp\n",
      " --cpxlp /var/folders/4j/c81mn4v50575c7kg4t3hp85r0000gn/T/tmpwy0u8n1u.pyomo.lp\n",
      "Reading problem data from '/var/folders/4j/c81mn4v50575c7kg4t3hp85r0000gn/T/tmpwy0u8n1u.pyomo.lp'...\n",
      "/var/folders/4j/c81mn4v50575c7kg4t3hp85r0000gn/T/tmpwy0u8n1u.pyomo.lp:79906: warning: lower bound of variable 'x25' redefined\n",
      "/var/folders/4j/c81mn4v50575c7kg4t3hp85r0000gn/T/tmpwy0u8n1u.pyomo.lp:79906: warning: upper bound of variable 'x25' redefined\n",
      "11852 rows, 9221 columns, 34837 non-zeros\n",
      "32 integer variables, all of which are binary\n",
      "79938 lines were read\n",
      "Writing problem data to '/var/folders/4j/c81mn4v50575c7kg4t3hp85r0000gn/T/tmpb9k4edrp.glpk.glp'...\n",
      "73824 lines were written\n",
      "GLPK Integer Optimizer, v4.65\n",
      "11852 rows, 9221 columns, 34837 non-zeros\n",
      "32 integer variables, all of which are binary\n",
      "Preprocessing...\n",
      "9753 rows, 6882 columns, 30400 non-zeros\n",
      "32 integer variables, all of which are binary\n",
      "Scaling...\n",
      " A: min|aij| =  3.649e-03  max|aij| =  1.130e+02  ratio =  3.097e+04\n",
      "GM: min|aij| =  4.734e-01  max|aij| =  2.112e+00  ratio =  4.462e+00\n",
      "EQ: min|aij| =  2.373e-01  max|aij| =  1.000e+00  ratio =  4.214e+00\n",
      "2N: min|aij| =  2.100e-01  max|aij| =  1.562e+00  ratio =  7.440e+00\n",
      "Constructing initial basis...\n",
      "Size of triangular part is 9743\n",
      "Solving LP relaxation...\n",
      "GLPK Simplex Optimizer, v4.65\n",
      "9753 rows, 6882 columns, 30400 non-zeros\n",
      "      0: obj =   0.000000000e+00 inf =   4.700e+03 (240)\n",
      "    768: obj =   2.820044009e+04 inf =   6.088e-14 (0) 5\n",
      "*  1291: obj =   2.520960430e+04 inf =   3.753e-14 (0) 4\n",
      "OPTIMAL LP SOLUTION FOUND\n",
      "Integer optimization begins...\n",
      "Long-step dual simplex will be used\n",
      "+  1291: mip =     not found yet >=              -inf        (1; 0)\n",
      "+  1639: >>>>>   2.638030348e+04 >=   2.521468219e+04   4.4% (12; 0)\n",
      "+  1934: >>>>>   2.634438737e+04 >=   2.525830017e+04   4.1% (17; 2)\n",
      "+  1974: >>>>>   2.540974089e+04 >=   2.526234232e+04   0.6% (21; 3)\n",
      "+  2398: >>>>>   2.530170557e+04 >=   2.529588655e+04 < 0.1% (14; 24)\n",
      "+  2423: mip =   2.530170557e+04 >=     tree is empty   0.0% (0; 67)\n",
      "INTEGER OPTIMAL SOLUTION FOUND\n",
      "Time used:   1.1 secs\n",
      "Memory used: 16.8 Mb (17628184 bytes)\n",
      "Writing MIP solution to '/var/folders/4j/c81mn4v50575c7kg4t3hp85r0000gn/T/tmp2hf3d5eb.glpk.raw'...\n",
      "21082 lines were written\n",
      "\n",
      "Status: ok\n",
      "Termination condition: optimal\n",
      "Statistics: \n",
      "  Branch and bound: \n",
      "    Number of bounded subproblems: 67\n",
      "    Number of created subproblems: 67\n",
      "Error rc: 0\n",
      "Time: 1.1696088314056396\n",
      "\n",
      "\n",
      "Name: unknown\n",
      "Lower bound: 25301.7055737522\n",
      "Upper bound: 25301.7055737522\n",
      "Number of objectives: 1\n",
      "Number of constraints: 11852\n",
      "Number of variables: 9221\n",
      "Number of nonzeros: 34837\n",
      "Sense: minimize\n",
      "\n",
      "Solve time: 2.2459070682525635 sec.\n",
      "\n",
      "Processing optimization output...\n",
      "for SourceSinkModel ...    (0.9206sec)\n",
      "for ConversionModel ...    (0.4320sec)\n"
     ]
    },
    {
     "name": "stderr",
     "output_type": "stream",
     "text": [
      " /Users/zaramulholland/opt/anaconda3/envs/FINE_test/lib/python3.6/site-packages/FINE/component.py:1651: UserWarning:the capacity of component DC cables is in one or more locations close or equal to the chosen Big M. Consider rerunning the simulation with a higher Big M.\n"
     ]
    },
    {
     "name": "stdout",
     "output_type": "stream",
     "text": [
      "for TransmissionModel ...  (1.7183sec)\n",
      "\t\t(3.0744 sec)\n",
      "\n"
     ]
    }
   ],
   "source": [
    "esM.optimize(timeSeriesAggregation=True, solver=\"glpk\")"
   ]
  },
  {
   "cell_type": "code",
   "execution_count": 26,
   "id": "a47d361d",
   "metadata": {},
   "outputs": [
    {
     "data": {
      "text/html": [
       "<div>\n",
       "<style scoped>\n",
       "    .dataframe tbody tr th:only-of-type {\n",
       "        vertical-align: middle;\n",
       "    }\n",
       "\n",
       "    .dataframe tbody tr th {\n",
       "        vertical-align: top;\n",
       "    }\n",
       "\n",
       "    .dataframe thead th {\n",
       "        text-align: right;\n",
       "    }\n",
       "</style>\n",
       "<table border=\"1\" class=\"dataframe\">\n",
       "  <thead>\n",
       "    <tr style=\"text-align: right;\">\n",
       "      <th></th>\n",
       "      <th></th>\n",
       "      <th></th>\n",
       "      <th>Building1</th>\n",
       "      <th>Building2</th>\n",
       "      <th>Building3</th>\n",
       "      <th>Building4</th>\n",
       "      <th>Building5</th>\n",
       "      <th>KolymbiaBay</th>\n",
       "    </tr>\n",
       "    <tr>\n",
       "      <th>Component</th>\n",
       "      <th>Property</th>\n",
       "      <th>Unit</th>\n",
       "      <th></th>\n",
       "      <th></th>\n",
       "      <th></th>\n",
       "      <th></th>\n",
       "      <th></th>\n",
       "      <th></th>\n",
       "    </tr>\n",
       "  </thead>\n",
       "  <tbody>\n",
       "    <tr>\n",
       "      <th rowspan=\"2\" valign=\"top\">CO2 to enviroment</th>\n",
       "      <th rowspan=\"2\" valign=\"top\">operation</th>\n",
       "      <th>[kg$_{CO_2}$/h*h/a]</th>\n",
       "      <td>NaN</td>\n",
       "      <td>NaN</td>\n",
       "      <td>NaN</td>\n",
       "      <td>NaN</td>\n",
       "      <td>NaN</td>\n",
       "      <td>91145.2</td>\n",
       "    </tr>\n",
       "    <tr>\n",
       "      <th>[kg$_{CO_2}$/h*h]</th>\n",
       "      <td>NaN</td>\n",
       "      <td>NaN</td>\n",
       "      <td>NaN</td>\n",
       "      <td>NaN</td>\n",
       "      <td>NaN</td>\n",
       "      <td>91145.2</td>\n",
       "    </tr>\n",
       "    <tr>\n",
       "      <th rowspan=\"2\" valign=\"top\">Electricity demand</th>\n",
       "      <th rowspan=\"2\" valign=\"top\">operation</th>\n",
       "      <th>[kW$_{el}$*h/a]</th>\n",
       "      <td>NaN</td>\n",
       "      <td>NaN</td>\n",
       "      <td>NaN</td>\n",
       "      <td>NaN</td>\n",
       "      <td>NaN</td>\n",
       "      <td>384760</td>\n",
       "    </tr>\n",
       "    <tr>\n",
       "      <th>[kW$_{el}$*h]</th>\n",
       "      <td>NaN</td>\n",
       "      <td>NaN</td>\n",
       "      <td>NaN</td>\n",
       "      <td>NaN</td>\n",
       "      <td>NaN</td>\n",
       "      <td>384760</td>\n",
       "    </tr>\n",
       "    <tr>\n",
       "      <th rowspan=\"9\" valign=\"top\">PV_BALC</th>\n",
       "      <th>TAC</th>\n",
       "      <th>[Euro/a]</th>\n",
       "      <td>310.168</td>\n",
       "      <td>0</td>\n",
       "      <td>310.168</td>\n",
       "      <td>0</td>\n",
       "      <td>0</td>\n",
       "      <td>0</td>\n",
       "    </tr>\n",
       "    <tr>\n",
       "      <th>capacity</th>\n",
       "      <th>[kW$_{el}$]</th>\n",
       "      <td>5.3</td>\n",
       "      <td>0</td>\n",
       "      <td>5.3</td>\n",
       "      <td>NaN</td>\n",
       "      <td>NaN</td>\n",
       "      <td>NaN</td>\n",
       "    </tr>\n",
       "    <tr>\n",
       "      <th>capexCap</th>\n",
       "      <th>[Euro/a]</th>\n",
       "      <td>185.314</td>\n",
       "      <td>0</td>\n",
       "      <td>185.314</td>\n",
       "      <td>NaN</td>\n",
       "      <td>NaN</td>\n",
       "      <td>NaN</td>\n",
       "    </tr>\n",
       "    <tr>\n",
       "      <th>capexIfBuilt</th>\n",
       "      <th>[Euro/a]</th>\n",
       "      <td>60.0623</td>\n",
       "      <td>0</td>\n",
       "      <td>60.0623</td>\n",
       "      <td>NaN</td>\n",
       "      <td>NaN</td>\n",
       "      <td>NaN</td>\n",
       "    </tr>\n",
       "    <tr>\n",
       "      <th>invest</th>\n",
       "      <th>[Euro]</th>\n",
       "      <td>2859.75</td>\n",
       "      <td>0</td>\n",
       "      <td>2859.75</td>\n",
       "      <td>NaN</td>\n",
       "      <td>NaN</td>\n",
       "      <td>NaN</td>\n",
       "    </tr>\n",
       "    <tr>\n",
       "      <th>isBuilt</th>\n",
       "      <th>[-]</th>\n",
       "      <td>1</td>\n",
       "      <td>0</td>\n",
       "      <td>1</td>\n",
       "      <td>NaN</td>\n",
       "      <td>NaN</td>\n",
       "      <td>NaN</td>\n",
       "    </tr>\n",
       "    <tr>\n",
       "      <th rowspan=\"2\" valign=\"top\">operation</th>\n",
       "      <th>[kW$_{el}$*h/a]</th>\n",
       "      <td>5557.26</td>\n",
       "      <td>0</td>\n",
       "      <td>8815.97</td>\n",
       "      <td>NaN</td>\n",
       "      <td>NaN</td>\n",
       "      <td>NaN</td>\n",
       "    </tr>\n",
       "    <tr>\n",
       "      <th>[kW$_{el}$*h]</th>\n",
       "      <td>5557.26</td>\n",
       "      <td>0</td>\n",
       "      <td>8815.97</td>\n",
       "      <td>NaN</td>\n",
       "      <td>NaN</td>\n",
       "      <td>NaN</td>\n",
       "    </tr>\n",
       "    <tr>\n",
       "      <th>opexCap</th>\n",
       "      <th>[Euro/a]</th>\n",
       "      <td>64.7925</td>\n",
       "      <td>0</td>\n",
       "      <td>64.7925</td>\n",
       "      <td>NaN</td>\n",
       "      <td>NaN</td>\n",
       "      <td>NaN</td>\n",
       "    </tr>\n",
       "    <tr>\n",
       "      <th rowspan=\"9\" valign=\"top\">PV_IBC</th>\n",
       "      <th>TAC</th>\n",
       "      <th>[Euro/a]</th>\n",
       "      <td>2235.28</td>\n",
       "      <td>2466.45</td>\n",
       "      <td>0</td>\n",
       "      <td>0</td>\n",
       "      <td>2891.22</td>\n",
       "      <td>0</td>\n",
       "    </tr>\n",
       "    <tr>\n",
       "      <th>capacity</th>\n",
       "      <th>[kW$_{el}$]</th>\n",
       "      <td>23.4966</td>\n",
       "      <td>26</td>\n",
       "      <td>NaN</td>\n",
       "      <td>0</td>\n",
       "      <td>30.6</td>\n",
       "      <td>NaN</td>\n",
       "    </tr>\n",
       "    <tr>\n",
       "      <th>capexCap</th>\n",
       "      <th>[Euro/a]</th>\n",
       "      <td>1787.98</td>\n",
       "      <td>1978.48</td>\n",
       "      <td>NaN</td>\n",
       "      <td>0</td>\n",
       "      <td>2328.52</td>\n",
       "      <td>NaN</td>\n",
       "    </tr>\n",
       "    <tr>\n",
       "      <th>capexIfBuilt</th>\n",
       "      <th>[Euro/a]</th>\n",
       "      <td>65.5751</td>\n",
       "      <td>65.5751</td>\n",
       "      <td>NaN</td>\n",
       "      <td>0</td>\n",
       "      <td>65.5751</td>\n",
       "      <td>NaN</td>\n",
       "    </tr>\n",
       "    <tr>\n",
       "      <th>invest</th>\n",
       "      <th>[Euro]</th>\n",
       "      <td>19786.3</td>\n",
       "      <td>21819.8</td>\n",
       "      <td>NaN</td>\n",
       "      <td>0</td>\n",
       "      <td>25556.4</td>\n",
       "      <td>NaN</td>\n",
       "    </tr>\n",
       "    <tr>\n",
       "      <th>isBuilt</th>\n",
       "      <th>[-]</th>\n",
       "      <td>1</td>\n",
       "      <td>1</td>\n",
       "      <td>NaN</td>\n",
       "      <td>0</td>\n",
       "      <td>1</td>\n",
       "      <td>NaN</td>\n",
       "    </tr>\n",
       "    <tr>\n",
       "      <th rowspan=\"2\" valign=\"top\">operation</th>\n",
       "      <th>[kW$_{el}$*h/a]</th>\n",
       "      <td>37828.5</td>\n",
       "      <td>53794.5</td>\n",
       "      <td>NaN</td>\n",
       "      <td>0</td>\n",
       "      <td>66966.2</td>\n",
       "      <td>NaN</td>\n",
       "    </tr>\n",
       "    <tr>\n",
       "      <th>[kW$_{el}$*h]</th>\n",
       "      <td>37828.5</td>\n",
       "      <td>53794.5</td>\n",
       "      <td>NaN</td>\n",
       "      <td>0</td>\n",
       "      <td>66966.2</td>\n",
       "      <td>NaN</td>\n",
       "    </tr>\n",
       "    <tr>\n",
       "      <th>opexCap</th>\n",
       "      <th>[Euro/a]</th>\n",
       "      <td>381.725</td>\n",
       "      <td>422.396</td>\n",
       "      <td>NaN</td>\n",
       "      <td>0</td>\n",
       "      <td>497.128</td>\n",
       "      <td>NaN</td>\n",
       "    </tr>\n",
       "    <tr>\n",
       "      <th rowspan=\"2\" valign=\"top\">Surplus to Utility</th>\n",
       "      <th rowspan=\"2\" valign=\"top\">operation</th>\n",
       "      <th>[kW$_{el}$*h/a]</th>\n",
       "      <td>NaN</td>\n",
       "      <td>NaN</td>\n",
       "      <td>NaN</td>\n",
       "      <td>NaN</td>\n",
       "      <td>NaN</td>\n",
       "      <td>25.9876</td>\n",
       "    </tr>\n",
       "    <tr>\n",
       "      <th>[kW$_{el}$*h]</th>\n",
       "      <td>NaN</td>\n",
       "      <td>NaN</td>\n",
       "      <td>NaN</td>\n",
       "      <td>NaN</td>\n",
       "      <td>NaN</td>\n",
       "      <td>25.9876</td>\n",
       "    </tr>\n",
       "    <tr>\n",
       "      <th rowspan=\"4\" valign=\"top\">Utility</th>\n",
       "      <th>TAC</th>\n",
       "      <th>[Euro/a]</th>\n",
       "      <td>0</td>\n",
       "      <td>0</td>\n",
       "      <td>0</td>\n",
       "      <td>0</td>\n",
       "      <td>0</td>\n",
       "      <td>16905.3</td>\n",
       "    </tr>\n",
       "    <tr>\n",
       "      <th>commodCosts</th>\n",
       "      <th>[Euro/a]</th>\n",
       "      <td>NaN</td>\n",
       "      <td>NaN</td>\n",
       "      <td>NaN</td>\n",
       "      <td>NaN</td>\n",
       "      <td>NaN</td>\n",
       "      <td>16905.3</td>\n",
       "    </tr>\n",
       "    <tr>\n",
       "      <th rowspan=\"2\" valign=\"top\">operation</th>\n",
       "      <th>[kW$_{el}$*h/a]</th>\n",
       "      <td>NaN</td>\n",
       "      <td>NaN</td>\n",
       "      <td>NaN</td>\n",
       "      <td>NaN</td>\n",
       "      <td>NaN</td>\n",
       "      <td>217012</td>\n",
       "    </tr>\n",
       "    <tr>\n",
       "      <th>[kW$_{el}$*h]</th>\n",
       "      <td>NaN</td>\n",
       "      <td>NaN</td>\n",
       "      <td>NaN</td>\n",
       "      <td>NaN</td>\n",
       "      <td>NaN</td>\n",
       "      <td>217012</td>\n",
       "    </tr>\n",
       "  </tbody>\n",
       "</table>\n",
       "</div>"
      ],
      "text/plain": [
       "                                                    Building1 Building2  \\\n",
       "Component          Property     Unit                                      \n",
       "CO2 to enviroment  operation    [kg$_{CO_2}$/h*h/a]       NaN       NaN   \n",
       "                                [kg$_{CO_2}$/h*h]         NaN       NaN   \n",
       "Electricity demand operation    [kW$_{el}$*h/a]           NaN       NaN   \n",
       "                                [kW$_{el}$*h]             NaN       NaN   \n",
       "PV_BALC            TAC          [Euro/a]              310.168         0   \n",
       "                   capacity     [kW$_{el}$]               5.3         0   \n",
       "                   capexCap     [Euro/a]              185.314         0   \n",
       "                   capexIfBuilt [Euro/a]              60.0623         0   \n",
       "                   invest       [Euro]                2859.75         0   \n",
       "                   isBuilt      [-]                         1         0   \n",
       "                   operation    [kW$_{el}$*h/a]       5557.26         0   \n",
       "                                [kW$_{el}$*h]         5557.26         0   \n",
       "                   opexCap      [Euro/a]              64.7925         0   \n",
       "PV_IBC             TAC          [Euro/a]              2235.28   2466.45   \n",
       "                   capacity     [kW$_{el}$]           23.4966        26   \n",
       "                   capexCap     [Euro/a]              1787.98   1978.48   \n",
       "                   capexIfBuilt [Euro/a]              65.5751   65.5751   \n",
       "                   invest       [Euro]                19786.3   21819.8   \n",
       "                   isBuilt      [-]                         1         1   \n",
       "                   operation    [kW$_{el}$*h/a]       37828.5   53794.5   \n",
       "                                [kW$_{el}$*h]         37828.5   53794.5   \n",
       "                   opexCap      [Euro/a]              381.725   422.396   \n",
       "Surplus to Utility operation    [kW$_{el}$*h/a]           NaN       NaN   \n",
       "                                [kW$_{el}$*h]             NaN       NaN   \n",
       "Utility            TAC          [Euro/a]                    0         0   \n",
       "                   commodCosts  [Euro/a]                  NaN       NaN   \n",
       "                   operation    [kW$_{el}$*h/a]           NaN       NaN   \n",
       "                                [kW$_{el}$*h]             NaN       NaN   \n",
       "\n",
       "                                                    Building3 Building4  \\\n",
       "Component          Property     Unit                                      \n",
       "CO2 to enviroment  operation    [kg$_{CO_2}$/h*h/a]       NaN       NaN   \n",
       "                                [kg$_{CO_2}$/h*h]         NaN       NaN   \n",
       "Electricity demand operation    [kW$_{el}$*h/a]           NaN       NaN   \n",
       "                                [kW$_{el}$*h]             NaN       NaN   \n",
       "PV_BALC            TAC          [Euro/a]              310.168         0   \n",
       "                   capacity     [kW$_{el}$]               5.3       NaN   \n",
       "                   capexCap     [Euro/a]              185.314       NaN   \n",
       "                   capexIfBuilt [Euro/a]              60.0623       NaN   \n",
       "                   invest       [Euro]                2859.75       NaN   \n",
       "                   isBuilt      [-]                         1       NaN   \n",
       "                   operation    [kW$_{el}$*h/a]       8815.97       NaN   \n",
       "                                [kW$_{el}$*h]         8815.97       NaN   \n",
       "                   opexCap      [Euro/a]              64.7925       NaN   \n",
       "PV_IBC             TAC          [Euro/a]                    0         0   \n",
       "                   capacity     [kW$_{el}$]               NaN         0   \n",
       "                   capexCap     [Euro/a]                  NaN         0   \n",
       "                   capexIfBuilt [Euro/a]                  NaN         0   \n",
       "                   invest       [Euro]                    NaN         0   \n",
       "                   isBuilt      [-]                       NaN         0   \n",
       "                   operation    [kW$_{el}$*h/a]           NaN         0   \n",
       "                                [kW$_{el}$*h]             NaN         0   \n",
       "                   opexCap      [Euro/a]                  NaN         0   \n",
       "Surplus to Utility operation    [kW$_{el}$*h/a]           NaN       NaN   \n",
       "                                [kW$_{el}$*h]             NaN       NaN   \n",
       "Utility            TAC          [Euro/a]                    0         0   \n",
       "                   commodCosts  [Euro/a]                  NaN       NaN   \n",
       "                   operation    [kW$_{el}$*h/a]           NaN       NaN   \n",
       "                                [kW$_{el}$*h]             NaN       NaN   \n",
       "\n",
       "                                                    Building5 KolymbiaBay  \n",
       "Component          Property     Unit                                       \n",
       "CO2 to enviroment  operation    [kg$_{CO_2}$/h*h/a]       NaN     91145.2  \n",
       "                                [kg$_{CO_2}$/h*h]         NaN     91145.2  \n",
       "Electricity demand operation    [kW$_{el}$*h/a]           NaN      384760  \n",
       "                                [kW$_{el}$*h]             NaN      384760  \n",
       "PV_BALC            TAC          [Euro/a]                    0           0  \n",
       "                   capacity     [kW$_{el}$]               NaN         NaN  \n",
       "                   capexCap     [Euro/a]                  NaN         NaN  \n",
       "                   capexIfBuilt [Euro/a]                  NaN         NaN  \n",
       "                   invest       [Euro]                    NaN         NaN  \n",
       "                   isBuilt      [-]                       NaN         NaN  \n",
       "                   operation    [kW$_{el}$*h/a]           NaN         NaN  \n",
       "                                [kW$_{el}$*h]             NaN         NaN  \n",
       "                   opexCap      [Euro/a]                  NaN         NaN  \n",
       "PV_IBC             TAC          [Euro/a]              2891.22           0  \n",
       "                   capacity     [kW$_{el}$]              30.6         NaN  \n",
       "                   capexCap     [Euro/a]              2328.52         NaN  \n",
       "                   capexIfBuilt [Euro/a]              65.5751         NaN  \n",
       "                   invest       [Euro]                25556.4         NaN  \n",
       "                   isBuilt      [-]                         1         NaN  \n",
       "                   operation    [kW$_{el}$*h/a]       66966.2         NaN  \n",
       "                                [kW$_{el}$*h]         66966.2         NaN  \n",
       "                   opexCap      [Euro/a]              497.128         NaN  \n",
       "Surplus to Utility operation    [kW$_{el}$*h/a]           NaN     25.9876  \n",
       "                                [kW$_{el}$*h]             NaN     25.9876  \n",
       "Utility            TAC          [Euro/a]                    0     16905.3  \n",
       "                   commodCosts  [Euro/a]                  NaN     16905.3  \n",
       "                   operation    [kW$_{el}$*h/a]           NaN      217012  \n",
       "                                [kW$_{el}$*h]             NaN      217012  "
      ]
     },
     "metadata": {},
     "output_type": "display_data"
    }
   ],
   "source": [
    "srcSnkSummary = esM.getOptimizationSummary(\"SourceSinkModel\", outputLevel=1)\n",
    "display(esM.getOptimizationSummary(\"SourceSinkModel\", outputLevel=2))"
   ]
  },
  {
   "cell_type": "code",
   "execution_count": 27,
   "id": "745e39bd",
   "metadata": {},
   "outputs": [
    {
     "data": {
      "text/html": [
       "<div>\n",
       "<style scoped>\n",
       "    .dataframe tbody tr th:only-of-type {\n",
       "        vertical-align: middle;\n",
       "    }\n",
       "\n",
       "    .dataframe tbody tr th {\n",
       "        vertical-align: top;\n",
       "    }\n",
       "\n",
       "    .dataframe thead th {\n",
       "        text-align: right;\n",
       "    }\n",
       "</style>\n",
       "<table border=\"1\" class=\"dataframe\">\n",
       "  <thead>\n",
       "    <tr style=\"text-align: right;\">\n",
       "      <th></th>\n",
       "      <th></th>\n",
       "      <th></th>\n",
       "      <th>Building1</th>\n",
       "      <th>Building2</th>\n",
       "      <th>Building3</th>\n",
       "      <th>Building4</th>\n",
       "      <th>Building5</th>\n",
       "      <th>KolymbiaBay</th>\n",
       "    </tr>\n",
       "    <tr>\n",
       "      <th>Component</th>\n",
       "      <th>Property</th>\n",
       "      <th>Unit</th>\n",
       "      <th></th>\n",
       "      <th></th>\n",
       "      <th></th>\n",
       "      <th></th>\n",
       "      <th></th>\n",
       "      <th></th>\n",
       "    </tr>\n",
       "  </thead>\n",
       "  <tbody>\n",
       "    <tr>\n",
       "      <th rowspan=\"5\" valign=\"top\">CO2 to enviroment</th>\n",
       "      <th>TAC</th>\n",
       "      <th>[Euro/a]</th>\n",
       "      <td>0</td>\n",
       "      <td>0</td>\n",
       "      <td>0</td>\n",
       "      <td>0</td>\n",
       "      <td>0</td>\n",
       "      <td>0</td>\n",
       "    </tr>\n",
       "    <tr>\n",
       "      <th>commodCosts</th>\n",
       "      <th>[Euro/a]</th>\n",
       "      <td>NaN</td>\n",
       "      <td>NaN</td>\n",
       "      <td>NaN</td>\n",
       "      <td>NaN</td>\n",
       "      <td>NaN</td>\n",
       "      <td>0</td>\n",
       "    </tr>\n",
       "    <tr>\n",
       "      <th>commodRevenues</th>\n",
       "      <th>[Euro/a]</th>\n",
       "      <td>NaN</td>\n",
       "      <td>NaN</td>\n",
       "      <td>NaN</td>\n",
       "      <td>NaN</td>\n",
       "      <td>NaN</td>\n",
       "      <td>0</td>\n",
       "    </tr>\n",
       "    <tr>\n",
       "      <th rowspan=\"2\" valign=\"top\">operation</th>\n",
       "      <th>[kg$_{CO_2}$/h*h/a]</th>\n",
       "      <td>NaN</td>\n",
       "      <td>NaN</td>\n",
       "      <td>NaN</td>\n",
       "      <td>NaN</td>\n",
       "      <td>NaN</td>\n",
       "      <td>91145.2</td>\n",
       "    </tr>\n",
       "    <tr>\n",
       "      <th>[kg$_{CO_2}$/h*h]</th>\n",
       "      <td>NaN</td>\n",
       "      <td>NaN</td>\n",
       "      <td>NaN</td>\n",
       "      <td>NaN</td>\n",
       "      <td>NaN</td>\n",
       "      <td>91145.2</td>\n",
       "    </tr>\n",
       "    <tr>\n",
       "      <th>...</th>\n",
       "      <th>...</th>\n",
       "      <th>...</th>\n",
       "      <td>...</td>\n",
       "      <td>...</td>\n",
       "      <td>...</td>\n",
       "      <td>...</td>\n",
       "      <td>...</td>\n",
       "      <td>...</td>\n",
       "    </tr>\n",
       "    <tr>\n",
       "      <th rowspan=\"5\" valign=\"top\">Utility</th>\n",
       "      <th>commodCosts</th>\n",
       "      <th>[Euro/a]</th>\n",
       "      <td>NaN</td>\n",
       "      <td>NaN</td>\n",
       "      <td>NaN</td>\n",
       "      <td>NaN</td>\n",
       "      <td>NaN</td>\n",
       "      <td>16905.3</td>\n",
       "    </tr>\n",
       "    <tr>\n",
       "      <th>commodRevenues</th>\n",
       "      <th>[Euro/a]</th>\n",
       "      <td>NaN</td>\n",
       "      <td>NaN</td>\n",
       "      <td>NaN</td>\n",
       "      <td>NaN</td>\n",
       "      <td>NaN</td>\n",
       "      <td>0</td>\n",
       "    </tr>\n",
       "    <tr>\n",
       "      <th rowspan=\"2\" valign=\"top\">operation</th>\n",
       "      <th>[kW$_{el}$*h/a]</th>\n",
       "      <td>NaN</td>\n",
       "      <td>NaN</td>\n",
       "      <td>NaN</td>\n",
       "      <td>NaN</td>\n",
       "      <td>NaN</td>\n",
       "      <td>217012</td>\n",
       "    </tr>\n",
       "    <tr>\n",
       "      <th>[kW$_{el}$*h]</th>\n",
       "      <td>NaN</td>\n",
       "      <td>NaN</td>\n",
       "      <td>NaN</td>\n",
       "      <td>NaN</td>\n",
       "      <td>NaN</td>\n",
       "      <td>217012</td>\n",
       "    </tr>\n",
       "    <tr>\n",
       "      <th>opexOp</th>\n",
       "      <th>[Euro/a]</th>\n",
       "      <td>NaN</td>\n",
       "      <td>NaN</td>\n",
       "      <td>NaN</td>\n",
       "      <td>NaN</td>\n",
       "      <td>NaN</td>\n",
       "      <td>0</td>\n",
       "    </tr>\n",
       "  </tbody>\n",
       "</table>\n",
       "<p>76 rows × 6 columns</p>\n",
       "</div>"
      ],
      "text/plain": [
       "                                                     Building1 Building2  \\\n",
       "Component         Property       Unit                                      \n",
       "CO2 to enviroment TAC            [Euro/a]                    0         0   \n",
       "                  commodCosts    [Euro/a]                  NaN       NaN   \n",
       "                  commodRevenues [Euro/a]                  NaN       NaN   \n",
       "                  operation      [kg$_{CO_2}$/h*h/a]       NaN       NaN   \n",
       "                                 [kg$_{CO_2}$/h*h]         NaN       NaN   \n",
       "...                                                        ...       ...   \n",
       "Utility           commodCosts    [Euro/a]                  NaN       NaN   \n",
       "                  commodRevenues [Euro/a]                  NaN       NaN   \n",
       "                  operation      [kW$_{el}$*h/a]           NaN       NaN   \n",
       "                                 [kW$_{el}$*h]             NaN       NaN   \n",
       "                  opexOp         [Euro/a]                  NaN       NaN   \n",
       "\n",
       "                                                     Building3 Building4  \\\n",
       "Component         Property       Unit                                      \n",
       "CO2 to enviroment TAC            [Euro/a]                    0         0   \n",
       "                  commodCosts    [Euro/a]                  NaN       NaN   \n",
       "                  commodRevenues [Euro/a]                  NaN       NaN   \n",
       "                  operation      [kg$_{CO_2}$/h*h/a]       NaN       NaN   \n",
       "                                 [kg$_{CO_2}$/h*h]         NaN       NaN   \n",
       "...                                                        ...       ...   \n",
       "Utility           commodCosts    [Euro/a]                  NaN       NaN   \n",
       "                  commodRevenues [Euro/a]                  NaN       NaN   \n",
       "                  operation      [kW$_{el}$*h/a]           NaN       NaN   \n",
       "                                 [kW$_{el}$*h]             NaN       NaN   \n",
       "                  opexOp         [Euro/a]                  NaN       NaN   \n",
       "\n",
       "                                                     Building5 KolymbiaBay  \n",
       "Component         Property       Unit                                       \n",
       "CO2 to enviroment TAC            [Euro/a]                    0           0  \n",
       "                  commodCosts    [Euro/a]                  NaN           0  \n",
       "                  commodRevenues [Euro/a]                  NaN           0  \n",
       "                  operation      [kg$_{CO_2}$/h*h/a]       NaN     91145.2  \n",
       "                                 [kg$_{CO_2}$/h*h]         NaN     91145.2  \n",
       "...                                                        ...         ...  \n",
       "Utility           commodCosts    [Euro/a]                  NaN     16905.3  \n",
       "                  commodRevenues [Euro/a]                  NaN           0  \n",
       "                  operation      [kW$_{el}$*h/a]           NaN      217012  \n",
       "                                 [kW$_{el}$*h]             NaN      217012  \n",
       "                  opexOp         [Euro/a]                  NaN           0  \n",
       "\n",
       "[76 rows x 6 columns]"
      ]
     },
     "execution_count": 27,
     "metadata": {},
     "output_type": "execute_result"
    }
   ],
   "source": [
    "srcSnkSummary"
   ]
  },
  {
   "cell_type": "code",
   "execution_count": 28,
   "id": "ef518090",
   "metadata": {},
   "outputs": [],
   "source": [
    "\n",
    "#fn.writeOptimizationOutputToExcel(\n",
    " #   esM,\n",
    "  #  outputFileName=\"/Users/zaramulholland/Desktop/Results/25degrees_noCO2limit\",\n",
    "   # optSumOutputLevel=0,\n",
    "    #optValOutputLevel=0,)"
   ]
  },
  {
   "cell_type": "code",
   "execution_count": 29,
   "id": "afc090d3",
   "metadata": {},
   "outputs": [
    {
     "data": {
      "text/html": [
       "<div>\n",
       "<style scoped>\n",
       "    .dataframe tbody tr th:only-of-type {\n",
       "        vertical-align: middle;\n",
       "    }\n",
       "\n",
       "    .dataframe tbody tr th {\n",
       "        vertical-align: top;\n",
       "    }\n",
       "\n",
       "    .dataframe thead th {\n",
       "        text-align: right;\n",
       "    }\n",
       "</style>\n",
       "<table border=\"1\" class=\"dataframe\">\n",
       "  <thead>\n",
       "    <tr style=\"text-align: right;\">\n",
       "      <th></th>\n",
       "      <th></th>\n",
       "      <th></th>\n",
       "      <th>Building1</th>\n",
       "      <th>Building2</th>\n",
       "      <th>Building3</th>\n",
       "      <th>Building4</th>\n",
       "      <th>Building5</th>\n",
       "      <th>KolymbiaBay</th>\n",
       "    </tr>\n",
       "    <tr>\n",
       "      <th>Component</th>\n",
       "      <th>Property</th>\n",
       "      <th>Unit</th>\n",
       "      <th></th>\n",
       "      <th></th>\n",
       "      <th></th>\n",
       "      <th></th>\n",
       "      <th></th>\n",
       "      <th></th>\n",
       "    </tr>\n",
       "  </thead>\n",
       "  <tbody>\n",
       "    <tr>\n",
       "      <th rowspan=\"3\" valign=\"top\">CO2Emissions</th>\n",
       "      <th>capacity</th>\n",
       "      <th>[kW$_{el}$]</th>\n",
       "      <td>NaN</td>\n",
       "      <td>NaN</td>\n",
       "      <td>NaN</td>\n",
       "      <td>NaN</td>\n",
       "      <td>NaN</td>\n",
       "      <td>103.824</td>\n",
       "    </tr>\n",
       "    <tr>\n",
       "      <th rowspan=\"2\" valign=\"top\">operation</th>\n",
       "      <th>[kW$_{el}$*h/a]</th>\n",
       "      <td>NaN</td>\n",
       "      <td>NaN</td>\n",
       "      <td>NaN</td>\n",
       "      <td>NaN</td>\n",
       "      <td>NaN</td>\n",
       "      <td>217012</td>\n",
       "    </tr>\n",
       "    <tr>\n",
       "      <th>[kW$_{el}$*h]</th>\n",
       "      <td>NaN</td>\n",
       "      <td>NaN</td>\n",
       "      <td>NaN</td>\n",
       "      <td>NaN</td>\n",
       "      <td>NaN</td>\n",
       "      <td>217012</td>\n",
       "    </tr>\n",
       "    <tr>\n",
       "      <th rowspan=\"3\" valign=\"top\">Inverter</th>\n",
       "      <th>capacity</th>\n",
       "      <th>[kW$_{el}$]</th>\n",
       "      <td>NaN</td>\n",
       "      <td>NaN</td>\n",
       "      <td>NaN</td>\n",
       "      <td>NaN</td>\n",
       "      <td>NaN</td>\n",
       "      <td>114.225</td>\n",
       "    </tr>\n",
       "    <tr>\n",
       "      <th rowspan=\"2\" valign=\"top\">operation</th>\n",
       "      <th>[kW$_{el}$*h/a]</th>\n",
       "      <td>NaN</td>\n",
       "      <td>NaN</td>\n",
       "      <td>NaN</td>\n",
       "      <td>NaN</td>\n",
       "      <td>NaN</td>\n",
       "      <td>172962</td>\n",
       "    </tr>\n",
       "    <tr>\n",
       "      <th>[kW$_{el}$*h]</th>\n",
       "      <td>NaN</td>\n",
       "      <td>NaN</td>\n",
       "      <td>NaN</td>\n",
       "      <td>NaN</td>\n",
       "      <td>NaN</td>\n",
       "      <td>172962</td>\n",
       "    </tr>\n",
       "  </tbody>\n",
       "</table>\n",
       "</div>"
      ],
      "text/plain": [
       "                                       Building1 Building2 Building3  \\\n",
       "Component    Property  Unit                                            \n",
       "CO2Emissions capacity  [kW$_{el}$]           NaN       NaN       NaN   \n",
       "             operation [kW$_{el}$*h/a]       NaN       NaN       NaN   \n",
       "                       [kW$_{el}$*h]         NaN       NaN       NaN   \n",
       "Inverter     capacity  [kW$_{el}$]           NaN       NaN       NaN   \n",
       "             operation [kW$_{el}$*h/a]       NaN       NaN       NaN   \n",
       "                       [kW$_{el}$*h]         NaN       NaN       NaN   \n",
       "\n",
       "                                       Building4 Building5 KolymbiaBay  \n",
       "Component    Property  Unit                                             \n",
       "CO2Emissions capacity  [kW$_{el}$]           NaN       NaN     103.824  \n",
       "             operation [kW$_{el}$*h/a]       NaN       NaN      217012  \n",
       "                       [kW$_{el}$*h]         NaN       NaN      217012  \n",
       "Inverter     capacity  [kW$_{el}$]           NaN       NaN     114.225  \n",
       "             operation [kW$_{el}$*h/a]       NaN       NaN      172962  \n",
       "                       [kW$_{el}$*h]         NaN       NaN      172962  "
      ]
     },
     "execution_count": 29,
     "metadata": {},
     "output_type": "execute_result"
    }
   ],
   "source": [
    "esM.getOptimizationSummary(\"ConversionModel\", outputLevel=2)"
   ]
  },
  {
   "cell_type": "code",
   "execution_count": 30,
   "id": "16d0f933",
   "metadata": {
    "scrolled": false
   },
   "outputs": [],
   "source": [
    "#fig, ax = fn.plotOperationColorMap(esM, \"PV_IBC\", \"Building1\")"
   ]
  },
  {
   "cell_type": "code",
   "execution_count": 31,
   "id": "8438e9d9",
   "metadata": {},
   "outputs": [],
   "source": [
    "#fig, ax = fn.plotOperationColorMap(esM, \"PV_IBC\", \"Building2\")"
   ]
  },
  {
   "cell_type": "code",
   "execution_count": 32,
   "id": "5e07942a",
   "metadata": {
    "scrolled": true
   },
   "outputs": [],
   "source": [
    "#fig, ax = fn.plotOperationColorMap(esM, \"PV_BALC\", \"Building1\")"
   ]
  },
  {
   "cell_type": "code",
   "execution_count": 33,
   "id": "b1338fdc",
   "metadata": {
    "scrolled": true
   },
   "outputs": [],
   "source": [
    "#fig, ax = fn.plotOperationColorMap(esM, \"PV_BALC\", \"Building3\")"
   ]
  },
  {
   "cell_type": "markdown",
   "id": "7a8bcf8f",
   "metadata": {},
   "source": [
    "although daily operation period is short, still cost effienct as allows an additional energy input at what the model deems a realistic investiment cost."
   ]
  },
  {
   "cell_type": "code",
   "execution_count": 34,
   "id": "3180b50c",
   "metadata": {},
   "outputs": [
    {
     "data": {
      "image/png": "[encoded data removed]",
      "text/plain": [
       "<Figure size 864x288 with 2 Axes>"
      ]
     },
     "metadata": {
      "needs_background": "light"
     },
     "output_type": "display_data"
    }
   ],
   "source": [
    "fig, ax = fn.plotOperationColorMap(esM, \"CO2 to enviroment\", \"KolymbiaBay\", vmax=50)"
   ]
  },
  {
   "cell_type": "code",
   "execution_count": 35,
   "id": "54bb6f59",
   "metadata": {
    "scrolled": true
   },
   "outputs": [
    {
     "data": {
      "image/png": "[encoded data removed]",
      "text/plain": [
       "<Figure size 864x288 with 2 Axes>"
      ]
     },
     "metadata": {
      "needs_background": "light"
     },
     "output_type": "display_data"
    }
   ],
   "source": [
    "fig, ax = fn.plotOperationColorMap(esM, 'Electricity demand', 'KolymbiaBay')"
   ]
  },
  {
   "cell_type": "code",
   "execution_count": 36,
   "id": "2d44b233",
   "metadata": {},
   "outputs": [
    {
     "data": {
      "image/png": "[encoded data removed]",
      "text/plain": [
       "<Figure size 864x288 with 1 Axes>"
      ]
     },
     "metadata": {
      "needs_background": "light"
     },
     "output_type": "display_data"
    }
   ],
   "source": [
    "fig, ax = fn.plotOperation(esM, 'Utility', 'KolymbiaBay')"
   ]
  },
  {
   "cell_type": "markdown",
   "id": "f8e77b52",
   "metadata": {},
   "source": [
    "Electricity taken from utility provider correlates with CO2 emissions associated with the hotel. This is the only thing related to CO2 in the model. Aim to minimise this and minimise cost. This will change significanty if I great a typical daily profile and apply to demand."
   ]
  },
  {
   "cell_type": "code",
   "execution_count": null,
   "id": "3b2ce9d0",
   "metadata": {},
   "outputs": [],
   "source": []
  }
 ],
 "metadata": {
  "kernelspec": {
   "display_name": "Python [conda env:FINE_test] *",
   "language": "python",
   "name": "conda-env-FINE_test-py"
  },
  "language_info": {
   "codemirror_mode": {
    "name": "ipython",
    "version": 3
   },
   "file_extension": ".py",
   "mimetype": "text/x-python",
   "name": "python",
   "nbconvert_exporter": "python",
   "pygments_lexer": "ipython3",
   "version": "3.6.13"
  }
 },
 "nbformat": 4,
 "nbformat_minor": 5
}
