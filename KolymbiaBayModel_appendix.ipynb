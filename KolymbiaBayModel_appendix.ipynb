{
 "cells": [
  {
   "cell_type": "markdown",
   "id": "3955c514",
   "metadata": {},
   "source": [
    "# Kolymbia Bay energy system model\n",
    "\n",
    "Modelling two variations of rooftop PV panels (IBC and Thin film) on buildings 1, 2, 4 and, 5 as well as BIPV on balconies (buildings 1-3) and the south facade of building 1. \n",
    "Buildings 1,2,4 and, 5 have roof area available for rooftop PV at areas of 120, 110, 84 and 140 (sqm) respectively. \n",
    "Balcony area available on buildings 1, 2 and, 3 are 36, 10 and 36 (sqm) respectively.\n",
    "Facade area available for BIPV on building 1 = 17sqm. \n",
    "\n",
    "\n",
    "Modelling each building as a different location to account for installation costs which include DC cables to connect each building to the energy metre. \n",
    "Each building labelled Building1, Building2 ....\n",
    "and the energy metre labelled as KolymbiaBay\n",
    "\n",
    "7 model runs:\n",
    "1. Utility only \n",
    "2. 25 degrees tilt, no limit to CO2 emissions (optimal cost), full energy demand\n",
    "3. 25 degrees tilt, max limit to CO2 emissions, full energy demand\n",
    "4. 8 degrees tilt, no limit to CO2 emissions (optimal cost), full energy demand\n",
    "5. 8 degrees tilt, max limit to CO2 emissions, full energy demand\n",
    "6. 8 degrees tilt, no limit to CO2 emissions (optimal cost), reduced energy demand\n",
    "7. 8 degrees tilt, max limit to CO2 emissions, reduced energy demand\n",
    "\n",
    "max limit to CO2 emissions found when CO2 reduction target results in an 'infeasible solution' meaning the energy system is not sustainable without greater inputs from the utility provider.\n",
    "\n",
    "The listed runs will analyse:\n",
    "\n",
    "- the preferred PV tech \n",
    "1. high efficency, high cost \n",
    "2. low efficiency, low cost\n",
    "3. BIPV\n",
    "\n",
    "- Optimum tilt angle. \n",
    "The optimum angle varies throughout the year. Will the PV system be more effective with the optimum tilt required for max generation in July and August when demand is high (8 degrees) or is it better to have an average tilt that is optimal for annual generation (25 degrees).\n",
    "\n",
    "- The effect of energy saving strategies\n",
    "Looking at hotel specific data ~ 50% of energy demand during summer accounts for cooling. Can run same model with 80% energy demand during the months April-October to mimic reduced energy consumption. \n",
    "\n",
    "This is carried out at hourly timesteps\n",
    "\n",
    "Inverter = Power Electronics: FS1003CU\n",
    "\n",
    "Comparing the CO2 emissions and cost associated with each combination. "
   ]
  },
  {
   "cell_type": "markdown",
   "id": "b1d088c6",
   "metadata": {},
   "source": [
    "## Sources\n",
    "1. PV IBC, Roof 1\n",
    "2. PV IBC, Roof 2\n",
    "3. PV IBC, Roof 4\n",
    "4. PV IBC, Roof 5\n",
    "\n",
    "\n",
    "5. Thin film, Roof 1\n",
    "6. Thin film, Roof 2\n",
    "7. Thin film, Roof 4\n",
    "8. Thin film, Roof 5\n",
    "\n",
    "\n",
    "9. BIPV, Balcony 1\n",
    "10. BIPV, Balcony 2\n",
    "11. BIPV, Balcony 3\n",
    "12. BIPV, South facade\n",
    "\n",
    "\n",
    "\n",
    "13. Utility provider (electricity)\n",
    "\n"
   ]
  },
  {
   "cell_type": "markdown",
   "id": "c1a9a881",
   "metadata": {},
   "source": [
    "# Sinks\n",
    "1. Hotel Electricity Demand \n",
    "2. CO2 to environment \n",
    "3. Utility provider (for surplus generation)"
   ]
  },
  {
   "cell_type": "markdown",
   "id": "90c39da0",
   "metadata": {},
   "source": [
    "# Conversion \n",
    "1. Inverter \n",
    "2. Virtual CO2 conversion (energy from prover to CO2 emissions)"
   ]
  },
  {
   "cell_type": "markdown",
   "id": "88b594b8",
   "metadata": {},
   "source": [
    "# Storage \n",
    "No storage - assuming net metering system only"
   ]
  },
  {
   "cell_type": "markdown",
   "id": "c9e013f3",
   "metadata": {},
   "source": [
    "# Transmission\n",
    "\n",
    "Cables between buildings\n",
    "\n",
    "Set hotel as a location - 1 demand for 'kolymbia Bay' 0 for the rest (5 buildings).\n",
    "Hotel location doesnt have any potential to produce energy from PV\n",
    "Transmission to transfer from PV generation on buildings to demand in energy metre \n"
   ]
  },
  {
   "cell_type": "markdown",
   "id": "07debcd0",
   "metadata": {},
   "source": [
    "# Import packages"
   ]
  },
  {
   "cell_type": "code",
   "execution_count": null,
   "id": "e0583934",
   "metadata": {},
   "outputs": [],
   "source": [
    "import FINE as fn\n",
    "from getData import getData\n",
    "\n",
    "import pandas as pd\n",
    "import os\n",
    "import openpyxl\n",
    "\n",
    "cwd = os.getcwd()\n",
    "data = getData()\n"
   ]
  },
  {
   "cell_type": "markdown",
   "id": "f3142095",
   "metadata": {},
   "source": [
    "# Input parameters"
   ]
  },
  {
   "cell_type": "code",
   "execution_count": null,
   "id": "8ba335cf",
   "metadata": {},
   "outputs": [],
   "source": [
    "# define locations \n",
    "locations = {'Building1', 'Building2', 'Building3', 'Building4', 'Building5', 'KolymbiaBay'} #need hotel as location??\n",
    "commodityUnitDict = {\"powerAC\": r\"kW$_{el}$\", \"powerDC\": r\"kW$_{el}$\", \"CO2\": r\"kg$_{CO_2}$/h\", \"utility\":r\"kW$_{el}$\"}\n",
    "commodities = {\"powerAC\", \"powerDC\", \"CO2\", \"utility\" }\n",
    "numberOfTimeSteps = 8760\n",
    "hoursPerTimeStep = 1\n",
    "\n",
    "# Code\n",
    "esM = fn.EnergySystemModel(locations=locations, commodities=commodities,\n",
    "    numberOfTimeSteps=numberOfTimeSteps, commodityUnitsDict=commodityUnitDict,\n",
    "    hoursPerTimeStep=hoursPerTimeStep, verboseLogLevel=0)"
   ]
  },
  {
   "cell_type": "markdown",
   "id": "d0a8f63a",
   "metadata": {},
   "source": [
    "# Create energy system model"
   ]
  },
  {
   "cell_type": "code",
   "execution_count": null,
   "id": "459a0061",
   "metadata": {},
   "outputs": [],
   "source": [
    "esM = fn.EnergySystemModel(\n",
    "    locations=locations,\n",
    "    commodities=commodities,\n",
    "    numberOfTimeSteps=numberOfTimeSteps,\n",
    "    commodityUnitsDict=commodityUnitDict,\n",
    "    hoursPerTimeStep=hoursPerTimeStep,\n",
    "    costUnit=\"Euro\",\n",
    "    lengthUnit=\"km\",\n",
    "    verboseLogLevel=0,\n",
    ")"
   ]
  },
  {
   "cell_type": "markdown",
   "id": "bf643b3d",
   "metadata": {},
   "source": [
    "# Source: Interdigitated Back Contact (IBC) PV"
   ]
  },
  {
   "cell_type": "markdown",
   "id": "fe7e43be",
   "metadata": {},
   "source": [
    "Add data\n",
    "\n",
    "Change operation_25 to operation_8 in variations 4,5,6,7\n",
    "\n",
    "For 'utility only' comment out all PV sources "
   ]
  },
  {
   "cell_type": "code",
   "execution_count": null,
   "id": "c5e81799",
   "metadata": {},
   "outputs": [],
   "source": [
    "IBC_operationRateMax = pd.read_excel(os.path.join('/Users/zaramulholland/Desktop/Data/PVtech/IBC.xlsx'),  \n",
    "                                     sheet_name ='operation_25',header = 0, index_col = 0, engine='openpyxl')\n",
    "IBC_capacityMax = pd.read_excel(os.path.join('/Users/zaramulholland/Desktop/Data/PVtech/IBC.xlsx'),  \n",
    "                                sheet_name ='capacities', index_col=0, engine='openpyxl',squeeze=True)"
   ]
  },
  {
   "cell_type": "markdown",
   "id": "a7cc85e1",
   "metadata": {},
   "source": [
    "Add source to model"
   ]
  },
  {
   "cell_type": "code",
   "execution_count": null,
   "id": "401f04be",
   "metadata": {},
   "outputs": [],
   "source": [
    "esM.add(fn.Source(esM=esM, \n",
    "                  name='PV_IBC', \n",
    "                  commodity='powerDC', \n",
    "                  hasCapacityVariable=True,\n",
    "                  operationRateMax=IBC_operationRateMax, \n",
    "                  capacityMax=IBC_capacityMax,\n",
    "                  investIfBuilt=700, #labour cost 2 days\n",
    "                  investPerCapacity=812.3, #total cost for given area divided by capacity for that area\n",
    "                  opexPerCapacity=812.3*0.02, #maintainence\n",
    "                  interestRate=0.08, #assume 8 percent\n",
    "                  economicLifetime=25,\n",
    "                  hasIsBuiltBinaryVariable=True,\n",
    "                  bigM=50,\n",
    "                  sharedPotentialID='rooftop')) #prevents IBC and thinfilm at same time\n",
    "\n"
   ]
  },
  {
   "cell_type": "markdown",
   "id": "679ebd05",
   "metadata": {},
   "source": [
    "# Source: PV thin film "
   ]
  },
  {
   "cell_type": "markdown",
   "id": "8b15a427",
   "metadata": {},
   "source": [
    "Add data\n",
    "\n",
    "Change operation_25 to operation_8 in variations 4,5,6,7\n",
    "\n",
    "For 'utility only' comment out all PV sources "
   ]
  },
  {
   "cell_type": "code",
   "execution_count": null,
   "id": "bf597c68",
   "metadata": {},
   "outputs": [],
   "source": [
    "thinfilm_operationRateMax = pd.read_excel(os.path.join('/Users/zaramulholland/Desktop/Data/PVtech/thinfilm.xlsx'),  \n",
    "                                     sheet_name ='operation_25',header = 0, index_col = 0, engine='openpyxl')\n",
    "thinfilm_capacityMax = pd.read_excel(os.path.join('/Users/zaramulholland/Desktop/Data/PVtech/thinfilm.xlsx'),  \n",
    "                                sheet_name ='capacities', index_col=0, engine='openpyxl',squeeze=True)"
   ]
  },
  {
   "cell_type": "code",
   "execution_count": null,
   "id": "174cbd7a",
   "metadata": {},
   "outputs": [],
   "source": [
    "#less maintainance and cheaper to install, shorter economiclifetime\n",
    "esM.add(fn.Source(esM=esM, \n",
    "                  name='PV_thinfilm', \n",
    "                  commodity='powerDC', \n",
    "                  hasCapacityVariable=True,\n",
    "                  operationRateMax=thinfilm_operationRateMax, \n",
    "                  capacityMax=thinfilm_capacityMax,\n",
    "                  investIfBuilt=700, #labour cost 2 days \n",
    "                  investPerCapacity=1053, #total cost for given area divided by capacity for that area\n",
    "                  opexPerCapacity=1053*0.01, #maintainence\n",
    "                  interestRate=0.08, #assume 8 percent\n",
    "                  economicLifetime=20,\n",
    "                  hasIsBuiltBinaryVariable=True,\n",
    "                  bigM=50,\n",
    "                  sharedPotentialID='rooftop')) #shared potential to stop IBC and thinfilm on same area.\n",
    "                 "
   ]
  },
  {
   "cell_type": "markdown",
   "id": "0302cf70",
   "metadata": {},
   "source": [
    "# Source: BIPV balcony "
   ]
  },
  {
   "cell_type": "markdown",
   "id": "8e748ab8",
   "metadata": {},
   "source": [
    "Add data\n",
    "\n",
    "For 'utility only' comment out all PV sources "
   ]
  },
  {
   "cell_type": "code",
   "execution_count": null,
   "id": "82a83769",
   "metadata": {},
   "outputs": [],
   "source": [
    "BALC_operationRateMax = pd.read_excel(os.path.join('/Users/zaramulholland/Desktop/Data/PVtech/PV_BALC.xlsx'),  \n",
    "                                     sheet_name ='BALC_operation_hourly_group',header = 0, index_col = 0, engine='openpyxl')\n",
    "BALC_capacityMax = pd.read_excel(os.path.join('/Users/zaramulholland/Desktop/Data/PVtech/PV_BALC.xlsx'),  \n",
    "                                sheet_name ='BALC_capacities', index_col=0, engine='openpyxl',squeeze=True)"
   ]
  },
  {
   "cell_type": "markdown",
   "id": "2a839cb1",
   "metadata": {},
   "source": [
    "Add source"
   ]
  },
  {
   "cell_type": "code",
   "execution_count": null,
   "id": "697e7bd2",
   "metadata": {},
   "outputs": [],
   "source": [
    "esM.add(fn.Source(esM=esM, \n",
    "                  name='PV_BALC', \n",
    "                  commodity='powerDC', \n",
    "                  hasCapacityVariable=True,\n",
    "                  operationRateMax=BALC_operationRateMax, \n",
    "                  capacityMax=BALC_capacityMax,\n",
    "                  investIfBuilt=700, #labour cost 2 days\n",
    "                  investPerCapacity=407.5, #total cost for given area divided by capacity for that area\n",
    "                  opexPerCapacity=407.5*0.03, #maintainence greater\n",
    "                  interestRate=0.08,\n",
    "                  hasIsBuiltBinaryVariable=True,\n",
    "                  bigM=50,\n",
    "                  economicLifetime=35,))\n",
    "               \n",
    "\n",
    "#ONYX"
   ]
  },
  {
   "cell_type": "markdown",
   "id": "b1105418",
   "metadata": {},
   "source": [
    "# Source: BIPV south facade"
   ]
  },
  {
   "cell_type": "markdown",
   "id": "a429e470",
   "metadata": {},
   "source": [
    "For 'utility only' comment out all PV sources "
   ]
  },
  {
   "cell_type": "code",
   "execution_count": null,
   "id": "d8633c51",
   "metadata": {},
   "outputs": [],
   "source": [
    "SOUTH_operationRateMax = pd.read_excel(os.path.join('/Users/zaramulholland/Desktop/Data/PVtech/PV_SOUTH.xlsx'),  \n",
    "                                     sheet_name ='SOUTH_operation_hourly_group',header = 0, index_col = 0, engine='openpyxl')\n",
    "SOUTH_capacityMax = pd.read_excel(os.path.join('/Users/zaramulholland/Desktop/Data/PVtech/PV_SOUTH.xlsx'),  \n",
    "                                sheet_name ='SOUTH_capacities', index_col=0, engine='openpyxl',squeeze=True)\n"
   ]
  },
  {
   "cell_type": "code",
   "execution_count": null,
   "id": "2cf80784",
   "metadata": {},
   "outputs": [],
   "source": [
    "esM.add(fn.Source(esM=esM, \n",
    "                  name='PV_SOUTH', \n",
    "                  commodity='powerDC', \n",
    "                  hasCapacityVariable=True,\n",
    "                  operationRateMax=SOUTH_operationRateMax, \n",
    "                  capacityMax=SOUTH_capacityMax,\n",
    "                  investIfBuilt=700, #labour cost 2 days\n",
    "                  investPerCapacity=696.7, \n",
    "                  opexPerCapacity=696.7*0.02,\n",
    "                  hasIsBuiltBinaryVariable=True,\n",
    "                  bigM=50,\n",
    "                  interestRate=0.08,\n",
    "                  economicLifetime=25))"
   ]
  },
  {
   "cell_type": "markdown",
   "id": "ba53ee3b",
   "metadata": {},
   "source": [
    "# Source: Electricity provider"
   ]
  },
  {
   "cell_type": "code",
   "execution_count": null,
   "id": "8aeee3b3",
   "metadata": {},
   "outputs": [],
   "source": [
    "# import locationalEligibility Dataframe\n",
    "CO2_locs= pd.read_excel(os.path.join('/Users/zaramulholland/Desktop/Data/LocationalEligability.xlsx'),  \n",
    "                                sheet_name ='Locs', index_col=0, engine='openpyxl',squeeze=True)"
   ]
  },
  {
   "cell_type": "code",
   "execution_count": null,
   "id": "a1a98728",
   "metadata": {},
   "outputs": [],
   "source": [
    "esM.add(fn.Source(esM=esM, \n",
    "                  name='Utility', \n",
    "                  commodity='utility', \n",
    "                  hasCapacityVariable=False,\n",
    "                  commodityCost=0.0779, # from energy bills (euro/kWh)\n",
    "                  locationalEligibility=CO2_locs,\n",
    "                )) \n"
   ]
  },
  {
   "cell_type": "markdown",
   "id": "a94df589",
   "metadata": {},
   "source": [
    "# Conversion: Virtual Conversion CO2"
   ]
  },
  {
   "cell_type": "code",
   "execution_count": null,
   "id": "631e0d8b",
   "metadata": {},
   "outputs": [],
   "source": [
    "esM.add(\n",
    "            fn.Conversion(\n",
    "                esM=esM,\n",
    "                name=\"CO2Emissions\",\n",
    "                physicalUnit=r\"kW$_{el}$\",\n",
    "                commodityConversionFactors={\"utility\": -1, \"powerAC\": 1, \"CO2\":0.42},\n",
    "                locationalEligibility=CO2_locs,\n",
    "                \n",
    "            )\n",
    "        ) \n",
    "#  CO2 component - 0.42kg/kWh"
   ]
  },
  {
   "cell_type": "markdown",
   "id": "96126c8f",
   "metadata": {},
   "source": [
    "# Conerverion: Inverter"
   ]
  },
  {
   "cell_type": "code",
   "execution_count": null,
   "id": "357120df",
   "metadata": {},
   "outputs": [],
   "source": [
    "\n",
    "esM.add(\n",
    "            fn.Conversion(\n",
    "                esM=esM,\n",
    "                name=\"Inverter\",\n",
    "                physicalUnit=r\"kW$_{el}$\",\n",
    "                commodityConversionFactors={\"powerAC\": 0.97, \"powerDC\": -1},\n",
    "                locationalEligibility=CO2_locs,\n",
    "            )\n",
    "        )"
   ]
  },
  {
   "cell_type": "markdown",
   "id": "012b3804",
   "metadata": {},
   "source": [
    "# Transmisson"
   ]
  },
  {
   "cell_type": "markdown",
   "id": "6d3d9f78",
   "metadata": {},
   "source": [
    "add data for locationaleligibility and cost of cabling between buildings and energy metre. Assumed locations joined as follows:\n",
    "1 joins to 2\n",
    "2 joins to 3\n",
    "3 joins to 4\n",
    "4 joins to metre\n",
    "5 joins to metre"
   ]
  },
  {
   "cell_type": "code",
   "execution_count": null,
   "id": "9a4792d6",
   "metadata": {},
   "outputs": [],
   "source": [
    "Trans_locs= pd.read_excel(os.path.join('/Users/zaramulholland/Desktop/Data/Transmission.xlsx'),  \n",
    "                                sheet_name ='LocationalE', index_col=0, engine='openpyxl',squeeze=True)\n",
    "Trans_cost= pd.read_excel(os.path.join('/Users/zaramulholland/Desktop/Data/Transmission.xlsx'),  \n",
    "                                sheet_name ='Cost', index_col=0, engine='openpyxl',squeeze=True)"
   ]
  },
  {
   "cell_type": "code",
   "execution_count": null,
   "id": "aa3d973a",
   "metadata": {},
   "outputs": [],
   "source": [
    "esM.add(fn.Transmission(esM=esM, \n",
    "                        name='AC cables', \n",
    "                        commodity='powerAC',\n",
    "                        hasCapacityVariable=True,\n",
    "                        hasIsBuiltBinaryVariable=True,\n",
    "                        locationalEligibility=Trans_locs,\n",
    "                        investIfBuilt=Trans_cost,\n",
    "                        bigM=50))"
   ]
  },
  {
   "cell_type": "code",
   "execution_count": null,
   "id": "e54f9498",
   "metadata": {},
   "outputs": [],
   "source": [
    "esM.add(fn.Transmission(esM=esM, \n",
    "                        name='DC cables', \n",
    "                        commodity='powerDC',\n",
    "                        hasCapacityVariable=True,\n",
    "                        hasIsBuiltBinaryVariable=True,\n",
    "                        locationalEligibility=Trans_locs,\n",
    "                        investIfBuilt=Trans_cost,\n",
    "                        bigM=100))\n",
    "                        "
   ]
  },
  {
   "cell_type": "markdown",
   "id": "0c155b6a",
   "metadata": {},
   "source": [
    "# Sink: Electricity demand "
   ]
  },
  {
   "cell_type": "markdown",
   "id": "3ba3bd49",
   "metadata": {},
   "source": [
    "For reduced demand - read excel sheet ReducedDemand2"
   ]
  },
  {
   "cell_type": "code",
   "execution_count": null,
   "id": "d6d6b486",
   "metadata": {},
   "outputs": [],
   "source": [
    "# Electricity demand data\n",
    "    operationRateFix = pd.read_excel(os.path.join(\"/Users/zaramulholland/Desktop/Data/Demand/Hotel_EnergyDemand.xlsx\"), \n",
    "                                     sheet_name='HotelDemand', header=0, index_col = 0,  engine='openpyxl')\n",
    "\n",
    "\n"
   ]
  },
  {
   "cell_type": "code",
   "execution_count": null,
   "id": "1b396383",
   "metadata": {},
   "outputs": [],
   "source": [
    "# Add sink\n",
    "esM.add(\n",
    "    fn.Sink(\n",
    "        esM=esM,\n",
    "        name=\"Electricity demand\",\n",
    "        commodity=\"powerAC\",\n",
    "        hasCapacityVariable=False,\n",
    "        operationRateFix=operationRateFix,\n",
    "    )\n",
    ")"
   ]
  },
  {
   "cell_type": "markdown",
   "id": "b3f1ff6b",
   "metadata": {},
   "source": [
    "# Sink: Add utility provider as a sink (surplus from PV generation)"
   ]
  },
  {
   "cell_type": "code",
   "execution_count": null,
   "id": "0337b170",
   "metadata": {},
   "outputs": [],
   "source": [
    "esM.add(\n",
    "    fn.Sink(\n",
    "        esM=esM,\n",
    "        name=\"Surplus to Utility\",\n",
    "        commodity=\"powerAC\",\n",
    "        hasCapacityVariable=False,\n",
    "        locationalEligibility=CO2_locs  \n",
    "    )\n",
    ")\n",
    "\n"
   ]
  },
  {
   "cell_type": "markdown",
   "id": "476ff43d",
   "metadata": {},
   "source": [
    "# Sink: CO2 to environment"
   ]
  },
  {
   "cell_type": "code",
   "execution_count": null,
   "id": "a551fe3b",
   "metadata": {},
   "outputs": [],
   "source": [
    "CO2_reductionTarget = 1"
   ]
  },
  {
   "cell_type": "code",
   "execution_count": null,
   "id": "edd39196",
   "metadata": {},
   "outputs": [],
   "source": [
    "esM.add(fn.Sink(esM=esM, name='CO2 to enviroment', commodity='CO2',\n",
    "                hasCapacityVariable=False,\n",
    "                locationalEligibility=CO2_locs,\n",
    "                commodityLimitID='CO2 limit',\n",
    "                \n",
    "                yearlyLimit=161599*(CO2_reductionTarget))) # 161599 = CO2 emissions when all from utility\n",
    "               \n"
   ]
  },
  {
   "cell_type": "code",
   "execution_count": null,
   "id": "cf93353a",
   "metadata": {},
   "outputs": [],
   "source": [
    "# Optimise (100 for increased accuracy) \n",
    "\n",
    "esM.cluster(numberOfTypicalPeriods=10)"
   ]
  },
  {
   "cell_type": "code",
   "execution_count": null,
   "id": "1b1e2999",
   "metadata": {},
   "outputs": [],
   "source": [
    "esM.optimize(timeSeriesAggregation=True, solver=\"glpk\")"
   ]
  },
  {
   "cell_type": "code",
   "execution_count": null,
   "id": "a47d361d",
   "metadata": {},
   "outputs": [],
   "source": [
    "srcSnkSummary = esM.getOptimizationSummary(\"SourceSinkModel\", outputLevel=1)\n",
    "display(esM.getOptimizationSummary(\"SourceSinkModel\", outputLevel=2))"
   ]
  },
  {
   "cell_type": "code",
   "execution_count": null,
   "id": "745e39bd",
   "metadata": {},
   "outputs": [],
   "source": [
    "srcSnkSummary"
   ]
  },
  {
   "cell_type": "code",
   "execution_count": null,
   "id": "ef518090",
   "metadata": {},
   "outputs": [],
   "source": [
    "\n",
    "#fn.writeOptimizationOutputToExcel(\n",
    " #   esM,\n",
    "  #  outputFileName=\"/Users/zaramulholland/Desktop/Results/25degrees_noCO2limit\",\n",
    "   # optSumOutputLevel=0,\n",
    "    #optValOutputLevel=0,)"
   ]
  },
  {
   "cell_type": "code",
   "execution_count": null,
   "id": "afc090d3",
   "metadata": {},
   "outputs": [],
   "source": [
    "esM.getOptimizationSummary(\"ConversionModel\", outputLevel=2)"
   ]
  },
  {
   "cell_type": "code",
   "execution_count": null,
   "id": "16d0f933",
   "metadata": {
    "scrolled": false
   },
   "outputs": [],
   "source": [
    "#fig, ax = fn.plotOperationColorMap(esM, \"PV_IBC\", \"Building1\")"
   ]
  },
  {
   "cell_type": "code",
   "execution_count": null,
   "id": "8438e9d9",
   "metadata": {},
   "outputs": [],
   "source": [
    "#fig, ax = fn.plotOperationColorMap(esM, \"PV_IBC\", \"Building2\")"
   ]
  },
  {
   "cell_type": "code",
   "execution_count": null,
   "id": "5e07942a",
   "metadata": {
    "scrolled": true
   },
   "outputs": [],
   "source": [
    "#fig, ax = fn.plotOperationColorMap(esM, \"PV_BALC\", \"Building1\")"
   ]
  },
  {
   "cell_type": "code",
   "execution_count": null,
   "id": "b1338fdc",
   "metadata": {
    "scrolled": true
   },
   "outputs": [],
   "source": [
    "#fig, ax = fn.plotOperationColorMap(esM, \"PV_BALC\", \"Building3\")"
   ]
  },
  {
   "cell_type": "markdown",
   "id": "7a8bcf8f",
   "metadata": {},
   "source": [
    "although daily operation period is short, still cost effienct as allows an additional energy input at what the model deems a realistic investiment cost."
   ]
  },
  {
   "cell_type": "code",
   "execution_count": null,
   "id": "3180b50c",
   "metadata": {},
   "outputs": [],
   "source": [
    "fig, ax = fn.plotOperationColorMap(esM, \"CO2 to enviroment\", \"KolymbiaBay\", vmax=50)"
   ]
  },
  {
   "cell_type": "code",
   "execution_count": null,
   "id": "54bb6f59",
   "metadata": {
    "scrolled": true
   },
   "outputs": [],
   "source": [
    "fig, ax = fn.plotOperationColorMap(esM, 'Electricity demand', 'KolymbiaBay')"
   ]
  },
  {
   "cell_type": "code",
   "execution_count": null,
   "id": "2d44b233",
   "metadata": {},
   "outputs": [],
   "source": [
    "fig, ax = fn.plotOperation(esM, 'Utility', 'KolymbiaBay')"
   ]
  },
  {
   "cell_type": "markdown",
   "id": "f8e77b52",
   "metadata": {},
   "source": [
    "Electricity taken from utility provider correlates with CO2 emissions associated with the hotel. This is the only thing related to CO2 in the model. Aim to minimise this and minimise cost. This will change significanty if I great a typical daily profile and apply to demand."
   ]
  },
  {
   "cell_type": "code",
   "execution_count": null,
   "id": "3b2ce9d0",
   "metadata": {},
   "outputs": [],
   "source": []
  }
 ],
 "metadata": {
  "kernelspec": {
   "display_name": "Python [conda env:FINE_test] *",
   "language": "python",
   "name": "conda-env-FINE_test-py"
  },
  "language_info": {
   "codemirror_mode": {
    "name": "ipython",
    "version": 3
   },
   "file_extension": ".py",
   "mimetype": "text/x-python",
   "name": "python",
   "nbconvert_exporter": "python",
   "pygments_lexer": "ipython3",
   "version": "3.6.13"
  }
 },
 "nbformat": 4,
 "nbformat_minor": 5
}
